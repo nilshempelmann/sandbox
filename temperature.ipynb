{
 "cells": [
  {
   "cell_type": "markdown",
   "metadata": {},
   "source": [
    "### Access to CMIP6 data with subset selection for the coordinates of Paris\n",
    "\n",
    "The code is oriented from https://esgf-pyclient.readthedocs.io/en/latest/notebooks/demo/subset-cmip6.html\n",
    "\n",
    "\n",
    "to prepare the running environment:\n",
    "\n",
    "conda create -n esgf-pyclient -c conda-forge esgf-pyclient\n",
    " \n",
    "conda install -c conda-forge myproxyclient\n",
    "\n",
    "conda install ipython \n",
    "\n",
    "conda install xarray \n",
    "\n",
    "conda install pydap \n",
    "\n",
    "conda install -c conda-forge pydap\n",
    "\n",
    "conda install -c conda-forge dask\n",
    "\n",
    "conda install -c conda-forge scipy\n",
    "\n",
    "conda install jupyter "
   ]
  },
  {
   "cell_type": "code",
   "execution_count": 1,
   "metadata": {},
   "outputs": [],
   "source": [
    "import xarray as xr\n",
    "\n",
    "from pyesgf.search import SearchConnection\n",
    "conn = SearchConnection('https://esgf-node.ipsl.upmc.fr/esg-search', distrib=False)\n",
    "# https://esgf-data.dkrz.de/esg-search"
   ]
  },
  {
   "cell_type": "code",
   "execution_count": 2,
   "metadata": {},
   "outputs": [],
   "source": [
    "from birdy import WPSClient\n",
    "from metalink import download\n",
    "import time\n",
    "\n",
    "finch_url = 'http://localhost:8092'\n",
    "finch = WPSClient(url=finch_url, progress=True)"
   ]
  },
  {
   "cell_type": "code",
   "execution_count": null,
   "metadata": {
    "scrolled": true
   },
   "outputs": [
    {
     "name": "stdout",
     "output_type": "stream",
     "text": [
      "54\n",
      "failed to subset files <pyesgf.search.results.ResultSet object at 0x7f9463821d60> : subset_bbox_dataset() got an unexpected keyword argument 'resource'\n",
      "failed to subset files <pyesgf.search.results.ResultSet object at 0x7f9490217e80> : subset_bbox_dataset() got an unexpected keyword argument 'resource'\n"
     ]
    }
   ],
   "source": [
    "# Search and fetch data for Paris\n",
    "ex = ['ssp126', 'ssp245', 'ssp370', 'ssp460','ssp585', 'historical'] # ['ssp119', 'ssp434']\n",
    "query = [ 'tas', 'tasmin', 'tasmax', 'pr', 'sfcWind' ] # \n",
    "\n",
    "ctx = conn.new_context(project='CMIP6', query=query, frequency='day', experiment_id=ex)\n",
    "print(ctx.hit_count)\n",
    "\n",
    "results = [r for r in ctx.search()]\n",
    "\n",
    "for result in results: \n",
    "    try:\n",
    "        files = result.file_context().search()\n",
    "        urls = [f.opendap_url for f in files]\n",
    "\n",
    "        out = finch.subset_bbox(resource=urls,  # lat=slice(48, 49), lon=slice(2, 3)\n",
    "            lon0=2,\n",
    "            lon1=3,\n",
    "            lat0=48,\n",
    "            lat1=49)\n",
    "        \n",
    "        while out.getStatus() != 'ProcessSucceeded':\n",
    "            time.sleep(1)\n",
    "        file = download.get(out.get()[1], path='data/dkrz/', segmented=False)\n",
    "#         print('*** fetched {}'.format(file))\n",
    "    except Exception as e: \n",
    "        print('failed to subset files {} : {}'.format(files, e))\n",
    "\n",
    "# failed to subset tas_day_CNRM-CM6-1_historical_r1i1p1f2 : 'Dataset' object has no attribute 'name'"
   ]
  },
  {
   "cell_type": "code",
   "execution_count": null,
   "metadata": {},
   "outputs": [
    {
     "name": "stdout",
     "output_type": "stream",
     "text": [
      "68\n"
     ]
    },
    {
     "data": {
      "application/vnd.jupyter.widget-view+json": {
       "model_id": "d2c5271b60194b70b437104e33d6f87f",
       "version_major": 2,
       "version_minor": 0
      },
      "text/plain": [
       "HBox(children=(IntProgress(value=0, bar_style='info', description='Processing:'), Button(button_style='danger'…"
      ]
     },
     "metadata": {},
     "output_type": "display_data"
    },
    {
     "name": "stdout",
     "output_type": "stream",
     "text": [
      "Metalink content-type detected.\n",
      "Downloading to data/dkrz/tas_day_MPI-ESM1-2-HR_ssp126_r1i1p1f1_gn_20150101-20191231_sub.nc.\n",
      "Downloading to data/dkrz/tas_day_MPI-ESM1-2-HR_ssp126_r1i1p1f1_gn_20200101-20241231_sub.nc.\n",
      "Downloading to data/dkrz/tas_day_MPI-ESM1-2-HR_ssp126_r1i1p1f1_gn_20250101-20291231_sub.nc.\n",
      "Downloading to data/dkrz/tas_day_MPI-ESM1-2-HR_ssp126_r1i1p1f1_gn_20300101-20341231_sub.nc.\n",
      "Downloading to data/dkrz/tas_day_MPI-ESM1-2-HR_ssp126_r1i1p1f1_gn_20350101-20391231_sub.nc.\n",
      "Downloading to data/dkrz/tas_day_MPI-ESM1-2-HR_ssp126_r1i1p1f1_gn_20400101-20441231_sub.nc.\n",
      "Downloading to data/dkrz/tas_day_MPI-ESM1-2-HR_ssp126_r1i1p1f1_gn_20450101-20491231_sub.nc.\n",
      "Downloading to data/dkrz/tas_day_MPI-ESM1-2-HR_ssp126_r1i1p1f1_gn_20500101-20541231_sub.nc.\n",
      "Downloading to data/dkrz/tas_day_MPI-ESM1-2-HR_ssp126_r1i1p1f1_gn_20550101-20591231_sub.nc.\n",
      "Downloading to data/dkrz/tas_day_MPI-ESM1-2-HR_ssp126_r1i1p1f1_gn_20600101-20641231_sub.nc.\n",
      "Downloading to data/dkrz/tas_day_MPI-ESM1-2-HR_ssp126_r1i1p1f1_gn_20650101-20691231_sub.nc.\n",
      "Downloading to data/dkrz/tas_day_MPI-ESM1-2-HR_ssp126_r1i1p1f1_gn_20700101-20741231_sub.nc.\n",
      "Downloading to data/dkrz/tas_day_MPI-ESM1-2-HR_ssp126_r1i1p1f1_gn_20750101-20791231_sub.nc.\n",
      "Downloading to data/dkrz/tas_day_MPI-ESM1-2-HR_ssp126_r1i1p1f1_gn_20800101-20841231_sub.nc.\n",
      "Downloading to data/dkrz/tas_day_MPI-ESM1-2-HR_ssp126_r1i1p1f1_gn_20850101-20891231_sub.nc.\n",
      "Downloading to data/dkrz/tas_day_MPI-ESM1-2-HR_ssp126_r1i1p1f1_gn_20900101-20941231_sub.nc.\n",
      "Downloading to data/dkrz/tas_day_MPI-ESM1-2-HR_ssp126_r1i1p1f1_gn_20950101-20991231_sub.nc.\n",
      "Downloading to data/dkrz/tas_day_MPI-ESM1-2-HR_ssp126_r1i1p1f1_gn_21000101-21001231_sub.nc.\n"
     ]
    },
    {
     "data": {
      "application/vnd.jupyter.widget-view+json": {
       "model_id": "b2540ffe65f04c7798d3c2246ecc5f55",
       "version_major": 2,
       "version_minor": 0
      },
      "text/plain": [
       "HBox(children=(IntProgress(value=0, bar_style='info', description='Processing:'), Button(button_style='danger'…"
      ]
     },
     "metadata": {},
     "output_type": "display_data"
    },
    {
     "name": "stdout",
     "output_type": "stream",
     "text": [
      "Metalink content-type detected.\n",
      "Downloading to data/dkrz/tas_day_CanESM5_ssp126_r8i1p1f1_gn_20150101-21001231_sub.nc.\n"
     ]
    },
    {
     "data": {
      "application/vnd.jupyter.widget-view+json": {
       "model_id": "9a2dc1f6a1f04bf88e76542649335568",
       "version_major": 2,
       "version_minor": 0
      },
      "text/plain": [
       "HBox(children=(IntProgress(value=0, bar_style='info', description='Processing:'), Button(button_style='danger'…"
      ]
     },
     "metadata": {},
     "output_type": "display_data"
    },
    {
     "name": "stdout",
     "output_type": "stream",
     "text": [
      "Metalink content-type detected.\n",
      "Downloading to data/dkrz/tas_day_CanESM5_ssp126_r5i1p2f1_gn_20150101-21001231_sub.nc.\n"
     ]
    },
    {
     "data": {
      "application/vnd.jupyter.widget-view+json": {
       "model_id": "4eb5ff79c4cd493983711035190db267",
       "version_major": 2,
       "version_minor": 0
      },
      "text/plain": [
       "HBox(children=(IntProgress(value=0, bar_style='info', description='Processing:'), Button(button_style='danger'…"
      ]
     },
     "metadata": {},
     "output_type": "display_data"
    },
    {
     "name": "stdout",
     "output_type": "stream",
     "text": [
      "Metalink content-type detected.\n",
      "Downloading to data/dkrz/tas_day_CanESM5_ssp126_r2i1p1f1_gn_20150101-21001231_sub.nc.\n"
     ]
    },
    {
     "data": {
      "application/vnd.jupyter.widget-view+json": {
       "model_id": "716488d45f5b408098effc4ea0060d96",
       "version_major": 2,
       "version_minor": 0
      },
      "text/plain": [
       "HBox(children=(IntProgress(value=0, bar_style='info', description='Processing:'), Button(button_style='danger'…"
      ]
     },
     "metadata": {},
     "output_type": "display_data"
    },
    {
     "name": "stdout",
     "output_type": "stream",
     "text": [
      "Metalink content-type detected.\n",
      "Downloading to data/dkrz/tas_day_CNRM-ESM2-1_ssp126_r4i1p1f2_gr_20150101-20931231_sub.nc.\n",
      "Downloading to data/dkrz/tas_day_CNRM-ESM2-1_ssp126_r4i1p1f2_gr_20150101-21001231_sub.nc.\n"
     ]
    },
    {
     "data": {
      "application/vnd.jupyter.widget-view+json": {
       "model_id": "853ec62227e945778520088418389c3b",
       "version_major": 2,
       "version_minor": 0
      },
      "text/plain": [
       "HBox(children=(IntProgress(value=0, bar_style='info', description='Processing:'), Button(button_style='danger'…"
      ]
     },
     "metadata": {},
     "output_type": "display_data"
    },
    {
     "name": "stdout",
     "output_type": "stream",
     "text": [
      "Metalink content-type detected.\n",
      "Downloading to data/dkrz/tas_day_CanESM5_ssp126_r7i1p1f1_gn_20150101-21001231_sub.nc.\n"
     ]
    },
    {
     "data": {
      "application/vnd.jupyter.widget-view+json": {
       "model_id": "da998557137c4dee8048f9abaadaf5b8",
       "version_major": 2,
       "version_minor": 0
      },
      "text/plain": [
       "HBox(children=(IntProgress(value=0, bar_style='info', description='Processing:'), Button(button_style='danger'…"
      ]
     },
     "metadata": {},
     "output_type": "display_data"
    },
    {
     "name": "stdout",
     "output_type": "stream",
     "text": [
      "Metalink content-type detected.\n",
      "Downloading to data/dkrz/tas_day_IPSL-CM6A-LR_ssp126_r3i1p1f1_gr_20150101-21001231_sub.nc.\n"
     ]
    },
    {
     "data": {
      "application/vnd.jupyter.widget-view+json": {
       "model_id": "bed6ced07eb54b1d819a45e948c04680",
       "version_major": 2,
       "version_minor": 0
      },
      "text/plain": [
       "HBox(children=(IntProgress(value=0, bar_style='info', description='Processing:'), Button(button_style='danger'…"
      ]
     },
     "metadata": {},
     "output_type": "display_data"
    },
    {
     "name": "stdout",
     "output_type": "stream",
     "text": [
      "Metalink content-type detected.\n",
      "Downloading to data/dkrz/tas_day_CanESM5_ssp126_r1i1p1f1_gn_21010101-23001231_sub.nc.\n"
     ]
    },
    {
     "data": {
      "application/vnd.jupyter.widget-view+json": {
       "model_id": "1d88c0dda4dc4a83a304965c4b073c74",
       "version_major": 2,
       "version_minor": 0
      },
      "text/plain": [
       "HBox(children=(IntProgress(value=0, bar_style='info', description='Processing:'), Button(button_style='danger'…"
      ]
     },
     "metadata": {},
     "output_type": "display_data"
    },
    {
     "name": "stdout",
     "output_type": "stream",
     "text": [
      "Metalink content-type detected.\n",
      "Downloading to data/dkrz/tas_day_CanESM5_ssp126_r1i1p2f1_gn_20150101-21001231_sub.nc.\n"
     ]
    },
    {
     "data": {
      "application/vnd.jupyter.widget-view+json": {
       "model_id": "9a49c38337444a29993d6172de3f26ad",
       "version_major": 2,
       "version_minor": 0
      },
      "text/plain": [
       "HBox(children=(IntProgress(value=0, bar_style='info', description='Processing:'), Button(button_style='danger'…"
      ]
     },
     "metadata": {},
     "output_type": "display_data"
    },
    {
     "name": "stdout",
     "output_type": "stream",
     "text": [
      "Metalink content-type detected.\n",
      "Downloading to data/dkrz/tas_day_CanESM5_ssp126_r3i1p2f1_gn_20150101-21001231_sub.nc.\n"
     ]
    },
    {
     "data": {
      "application/vnd.jupyter.widget-view+json": {
       "model_id": "a6b2271386514292850cc7d510082c79",
       "version_major": 2,
       "version_minor": 0
      },
      "text/plain": [
       "HBox(children=(IntProgress(value=0, bar_style='info', description='Processing:'), Button(button_style='danger'…"
      ]
     },
     "metadata": {},
     "output_type": "display_data"
    },
    {
     "name": "stdout",
     "output_type": "stream",
     "text": [
      " owslib.wps.WPSException : {'code': 'NoApplicableCode', 'locator': 'None', 'text': 'Process error: method=wps_xsubset_bbox.py._handler, line=66, msg=list index out of range'}\n"
     ]
    }
   ],
   "source": [
    "conn = SearchConnection('https://esgf-data.dkrz.de/esg-search', distrib=False)\n",
    "# Search and fetch data for Paris\n",
    "\n",
    "ex = [ 'ssp126', 'ssp245', 'ssp370', 'ssp434', 'ssp460','ssp585', 'historical'] # 'ssp119',\n",
    "query = [ 'tas', 'tasmin', 'tasmax', 'pr', 'sfcWind' ] # \n",
    "\n",
    "\n",
    "for q in query: \n",
    "    for e in ex: \n",
    "        ctx = conn.new_context(project='CMIP6', query=q, frequency='day', experiment_id=e)\n",
    "\n",
    "        print(ctx.hit_count)\n",
    "        results = [r for r in ctx.search()]\n",
    "\n",
    "        for result in results: \n",
    "            try:\n",
    "                files = result.file_context().search()\n",
    "                urls = [f.opendap_url for f in files]\n",
    "                out = finch.subset_bbox(resource=urls,  # lat=slice(48, 49), lon=slice(2, 3)\n",
    "                    lon0=2,\n",
    "                    lon1=3,\n",
    "                    lat0=48,\n",
    "                    lat1=49)\n",
    "                while out.getStatus() != 'ProcessSucceeded':\n",
    "                    time.sleep(1)\n",
    "                file = download.get(out.get()[1], path='data/dkrz/', segmented=False)\n",
    "        #         print('*** fetched {}'.format(file))\n",
    "            except Exception as e: \n",
    "                print('failed to subset files {} : {}'.format(files, e))\n",
    "\n",
    "        # failed to subset tas_day_CNRM-CM6-1_historical_r1i1p1f2 : 'Dataset' object has no attribute 'name'"
   ]
  },
  {
   "cell_type": "code",
   "execution_count": 10,
   "metadata": {
    "scrolled": true
   },
   "outputs": [
    {
     "name": "stdout",
     "output_type": "stream",
     "text": [
      "ssp119 tas 180\n",
      "ssp119 tasmin 145\n",
      "ssp119 tasmax 144\n",
      "ssp119 pr 145\n",
      "ssp119 sfcWind 126\n",
      "ssp126 tas 180\n",
      "ssp126 tasmin 145\n",
      "ssp126 tasmax 144\n",
      "ssp126 pr 145\n",
      "ssp126 sfcWind 126\n",
      "ssp245 tas 180\n",
      "ssp245 tasmin 145\n",
      "ssp245 tasmax 144\n",
      "ssp245 pr 145\n",
      "ssp245 sfcWind 126\n",
      "ssp370 tas 180\n",
      "ssp370 tasmin 145\n",
      "ssp370 tasmax 144\n",
      "ssp370 pr 145\n",
      "ssp370 sfcWind 126\n",
      "ssp434 tas 180\n",
      "ssp434 tasmin 145\n",
      "ssp434 tasmax 144\n",
      "ssp434 pr 145\n",
      "ssp434 sfcWind 126\n",
      "ssp460 tas 180\n",
      "ssp460 tasmin 145\n",
      "ssp460 tasmax 144\n",
      "ssp460 pr 145\n",
      "ssp460 sfcWind 126\n",
      "ssp585 tas 180\n",
      "ssp585 tasmin 145\n",
      "ssp585 tasmax 144\n",
      "ssp585 pr 145\n",
      "ssp585 sfcWind 126\n",
      "historical tas 180\n",
      "historical tasmin 145\n",
      "historical tasmax 144\n",
      "historical pr 145\n",
      "historical sfcWind 126\n"
     ]
    }
   ],
   "source": [
    "ex = ['ssp119','ssp126', 'ssp245', 'ssp370', 'ssp434', 'ssp460','ssp585', 'historical']\n",
    "query = ['tas', 'tasmin', 'tasmax', 'pr', 'sfcWind']\n",
    "\n",
    "for i in ex: \n",
    "    for q in query:\n",
    "        ctx = conn.new_context(project='CMIP6', query=q, frequency='day',  experiment_id=i)\n",
    "        "
   ]
  },
  {
   "cell_type": "code",
   "execution_count": 11,
   "metadata": {},
   "outputs": [
    {
     "name": "stdout",
     "output_type": "stream",
     "text": [
      "74\n"
     ]
    }
   ],
   "source": [
    "ctx = conn.new_context(project='CMIP6', query='tas', frequency='day',  experiment_id='historical')\n",
    "print(ctx.hit_count)"
   ]
  },
  {
   "cell_type": "code",
   "execution_count": 12,
   "metadata": {},
   "outputs": [
    {
     "name": "stdout",
     "output_type": "stream",
     "text": [
      "CMIP6.CMIP.IPSL.IPSL-CM6A-LR.historical.r31i1p1f1.day.tas.gr.v20190614|vesg.ipsl.upmc.fr\n",
      "CMIP6.CMIP.IPSL.IPSL-CM6A-LR.historical.r31i1p1f1.day.tas.gr.v20190614|vesg.ipsl.upmc.fr\n"
     ]
    }
   ],
   "source": [
    "# list the results\n",
    "results = [result for result in ctx.search()]\n",
    "print(results[0].dataset_id)\n",
    "# list dataset IDs\n",
    "dataset_ids = [result.dataset_id for result in ctx.search()]\n",
    "print(dataset_ids[0])"
   ]
  },
  {
   "cell_type": "code",
   "execution_count": 13,
   "metadata": {},
   "outputs": [
    {
     "name": "stdout",
     "output_type": "stream",
     "text": [
      "['http://vesg.ipsl.upmc.fr/thredds/dodsC/cmip6/CMIP/IPSL/IPSL-CM6A-LR/historical/r31i1p1f1/day/tas/gr/v20190614/tas_day_IPSL-CM6A-LR_historical_r31i1p1f1_gr_18500101-20141231.nc']\n"
     ]
    }
   ],
   "source": [
    "# get the files / urls for one dataset\n",
    "print(urls)\n",
    "# for file in files:\n",
    "#     print(file.opendap_url.split('/')[-1])"
   ]
  },
  {
   "cell_type": "code",
   "execution_count": 14,
   "metadata": {},
   "outputs": [
    {
     "data": {
      "text/plain": [
       "'http://vesg.ipsl.upmc.fr/thredds/dodsC/cmip6/CMIP/IPSL/IPSL-CM6A-LR/historical/r31i1p1f1/day/tas/gr/v20190614/tas_day_IPSL-CM6A-LR_historical_r31i1p1f1_gr_18500101-20141231.nc'"
      ]
     },
     "execution_count": 14,
     "metadata": {},
     "output_type": "execute_result"
    }
   ],
   "source": [
    "urls[0]"
   ]
  },
  {
   "cell_type": "code",
   "execution_count": 15,
   "metadata": {},
   "outputs": [],
   "source": [
    "# open single file:\n",
    "ds = xr.open_dataset(urls[0]) # ,decode_times=False) # chunks={'time': 120},"
   ]
  },
  {
   "cell_type": "code",
   "execution_count": 27,
   "metadata": {},
   "outputs": [
    {
     "name": "stdout",
     "output_type": "stream",
     "text": [
      "<xarray.Dataset>\n",
      "Dimensions:      (axis_nbounds: 2, lat: 143, lon: 144, time: 60265)\n",
      "Coordinates:\n",
      "    height       float64 ...\n",
      "  * lat          (lat) float32 -90.0 -88.73239 -87.46479 ... 88.73239 90.0\n",
      "  * lon          (lon) float32 0.0 2.5 5.0 7.5 10.0 ... 350.0 352.5 355.0 357.5\n",
      "  * time         (time) float64 0.5 1.5 2.5 ... 6.026e+04 6.026e+04 6.026e+04\n",
      "Dimensions without coordinates: axis_nbounds\n",
      "Data variables:\n",
      "    time_bounds  (time, axis_nbounds) float64 dask.array<chunksize=(60265, 2), meta=np.ndarray>\n",
      "    tas          (time, lat, lon) float32 dask.array<chunksize=(60265, 143, 144), meta=np.ndarray>\n",
      "Attributes:\n",
      "    name:                            /ccc/work/cont003/gencmip6/p86denv/IGCM_...\n",
      "    Conventions:                     CF-1.7 CMIP-6.2\n",
      "    creation_date:                   2018-09-08T21:26:39Z\n",
      "    description:                     CMIP6 historical\n",
      "    title:                           IPSL-CM6A-LR model output prepared for C...\n",
      "    activity_id:                     CMIP\n",
      "    contact:                         ipsl-cmip6@listes.ipsl.fr\n",
      "    data_specs_version:              01.00.21\n",
      "    dr2xml_version:                  1.13\n",
      "    experiment_id:                   historical\n",
      "    experiment:                      all-forcing simulation of the recent past\n",
      "    external_variables:              areacella\n",
      "    forcing_index:                   1\n",
      "    frequency:                       day\n",
      "    further_info_url:                https://furtherinfo.es-doc.org/CMIP6.IPS...\n",
      "    grid:                            LMDZ grid\n",
      "    grid_label:                      gr\n",
      "    nominal_resolution:              250 km\n",
      "    initialization_index:            1\n",
      "    institution_id:                  IPSL\n",
      "    institution:                     Institut Pierre Simon Laplace, Paris 752...\n",
      "    license:                         CMIP6 model data produced by IPSL is lic...\n",
      "    mip_era:                         CMIP6\n",
      "    parent_experiment_id:            piControl\n",
      "    parent_mip_era:                  CMIP6\n",
      "    parent_activity_id:              CMIP\n",
      "    parent_source_id:                IPSL-CM6A-LR\n",
      "    parent_time_units:               days since 1850-01-01 00:00:00\n",
      "    branch_method:                   standard\n",
      "    branch_time_in_parent:           226451.0\n",
      "    branch_time_in_child:            0.0\n",
      "    physics_index:                   1\n",
      "    product:                         model-output\n",
      "    realization_index:               31\n",
      "    realm:                           atmos\n",
      "    source:                          IPSL-CM6A-LR (2017):  atmos: LMDZ (NPv6,...\n",
      "    source_id:                       IPSL-CM6A-LR\n",
      "    source_type:                     AOGCM BGC\n",
      "    sub_experiment_id:               none\n",
      "    sub_experiment:                  none\n",
      "    table_id:                        day\n",
      "    variable_id:                     tas\n",
      "    variant_label:                   r31i1p1f1\n",
      "    EXPID:                           historical\n",
      "    CMIP6_CV_version:                cv=6.2.3.5-2-g63b123e\n",
      "    dr2xml_md5sum:                   92ddb3d0d8ce79f498d792fc8e559dcf\n",
      "    model_version:                   6.1.6\n",
      "    history:                         Fri Sep 28 11:53:50 2018: ncatted -O -a ...\n",
      "    parent_variant_label:            r1i1p1f1\n",
      "    tracking_id:                     hdl:21.14100/e8825826-90cb-4984-ade7-740...\n",
      "    DODS_EXTRA.Unlimited_Dimension:  time\n"
     ]
    }
   ],
   "source": [
    "# open multiple files of one dataset\n",
    "ds_agg = xr.open_mfdataset(urls, # chunks={'time': 120}, #  files[1].opendap_url],\n",
    "                           combine='nested', concat_dim='time', decode_times=False)\n",
    "print(ds_agg)"
   ]
  },
  {
   "cell_type": "code",
   "execution_count": 31,
   "metadata": {},
   "outputs": [],
   "source": []
  },
  {
   "cell_type": "code",
   "execution_count": 33,
   "metadata": {},
   "outputs": [],
   "source": [
    "da = ds_agg['tas']\n",
    "# da = da.isel(time=slice(1000, 2000)) # max 318\n",
    "da = da.sel(lat=slice(48, 49), lon=slice(2, 3)) #(lat=slice(0, 50), lon=slice(0, 50)) ,Paris = 48.8534, 2.3488\n",
    "# download the data to local storage\n",
    "name = ds_agg.name.split('/')[-1][0:-27]\n",
    "da.to_netcdf('data/{}_paris.nc'.format(name))"
   ]
  },
  {
   "cell_type": "code",
   "execution_count": null,
   "metadata": {},
   "outputs": [
    {
     "name": "stdout",
     "output_type": "stream",
     "text": [
      "74\n",
      "file tas_day_IPSL-CM6A-LR_historical_r31i1p1f1 exist allready\n",
      "file tas_day_IPSL-CM6A-LR_historical_r3i1p1f1 exist allready\n",
      "file tas_day_IPSL-CM6A-LR_historical_r4i1p1f1 exist allready\n",
      "file tas_day_IPSL-CM6A-LR_historical_r5i1p1f1 exist allready\n",
      "file tas_day_IPSL-CM6A-LR_historical_r28i1p1f1 exist allready\n",
      "file tas_day_IPSL-CM6A-LR_historical_r27i1p1f1 exist allready\n",
      "file tas_day_IPSL-CM6A-LR_historical_r30i1p1f1 exist allready\n",
      "file tas_day_IPSL-CM6A-LR_historical_r29i1p1f1 exist allready\n",
      "file tas_day_IPSL-CM6A-LR_historical_r2i1p1f1 exist allready\n",
      "file tas_day_IPSL-CM6A-LR_historical_r23i1p1f1 exist allready\n",
      "file tas_day_IPSL-CM6A-LR_historical_r25i1p1f1 exist allready\n",
      "file tas_day_IPSL-CM6A-LR_historical_r24i1p1f1 exist allready\n",
      "file tas_day_IPSL-CM6A-LR_historical_r26i1p1f1 exist allready\n",
      "file tas_day_IPSL-CM6A-LR_historical_r10i1p1f1 exist allready\n",
      "file tas_day_IPSL-CM6A-LR_historical_r12i1p1f1 exist allready\n",
      "file tas_day_IPSL-CM6A-LR_historical_r14i1p1f1 exist allready\n",
      "file tas_day_IPSL-CM6A-LR_historical_r11i1p1f1 exist allready\n",
      "file tas_day_IPSL-CM6A-LR_historical_r13i1p1f1 exist allready\n",
      "file tas_day_IPSL-CM6A-LR_historical_r20i1p1f1 exist allready\n",
      "file tas_day_IPSL-CM6A-LR_historical_r21i1p1f1 exist allready\n",
      "file tas_day_IPSL-CM6A-LR_historical_r22i1p1f1 exist allready\n",
      "file tas_day_IPSL-CM6A-LR_historical_r19i1p1f1 exist allready\n",
      "file tas_day_IPSL-CM6A-LR_historical_r1i1p1f1 exist allready\n",
      "file tas_day_IPSL-CM6A-LR_historical_r6i1p1f1 exist allready\n",
      "file tas_day_IPSL-CM6A-LR_historical_r7i1p1f1 exist allready\n",
      "file tas_day_IPSL-CM6A-LR_historical_r8i1p1f1 exist allready\n",
      "file tas_day_IPSL-CM6A-LR_historical_r9i1p1f1 exist allready\n",
      "file tas_day_IPSL-CM6A-LR_historical_r17i1p1f1 exist allready\n",
      "file tas_day_IPSL-CM6A-LR_historical_r15i1p1f1 exist allready\n",
      "file tas_day_IPSL-CM6A-LR_historical_r16i1p1f1 exist allready\n",
      "file tas_day_IPSL-CM6A-LR_historical_r18i1p1f1 exist allready\n",
      "file tas_day_IPSL-CM6A-LR_historical_r32i1p1f1 exist allready\n",
      "failed to subset tas_day_IPSL-CM6A-LR_historical_r32i1p1f1 : 'Dataset' object has no attribute 'name' \n",
      "**** Sucessfully fetched tas_day_CNRM-CM6-1_historical_r1i1p1f2\n",
      "failed to subset tas_day_CNRM-CM6-1_historical_r1i1p1f2 : 'Dataset' object has no attribute 'name' \n",
      "failed to subset tas_day_CNRM-CM6-1_historical_r1i1p1f2 : 'Dataset' object has no attribute 'name' \n",
      "failed to subset tas_day_CNRM-CM6-1_historical_r1i1p1f2 : 'Dataset' object has no attribute 'name' \n",
      "failed to subset tas_day_CNRM-CM6-1_historical_r1i1p1f2 : 'Dataset' object has no attribute 'name' \n",
      "failed to subset tas_day_CNRM-CM6-1_historical_r1i1p1f2 : 'Dataset' object has no attribute 'name' \n",
      "failed to subset tas_day_CNRM-CM6-1_historical_r1i1p1f2 : 'Dataset' object has no attribute 'name' \n",
      "failed to subset tas_day_CNRM-CM6-1_historical_r1i1p1f2 : 'Dataset' object has no attribute 'name' \n",
      "failed to subset tas_day_CNRM-CM6-1_historical_r1i1p1f2 : 'Dataset' object has no attribute 'name' \n",
      "failed to subset tas_day_CNRM-CM6-1_historical_r1i1p1f2 : 'Dataset' object has no attribute 'name' \n",
      "failed to subset tas_day_CNRM-CM6-1_historical_r1i1p1f2 : 'Dataset' object has no attribute 'name' \n",
      "failed to subset tas_day_CNRM-CM6-1_historical_r1i1p1f2 : 'Dataset' object has no attribute 'name' \n",
      "failed to subset tas_day_CNRM-CM6-1_historical_r1i1p1f2 : 'Dataset' object has no attribute 'name' \n",
      "failed to subset tas_day_CNRM-CM6-1_historical_r1i1p1f2 : 'Dataset' object has no attribute 'name' \n",
      "failed to subset tas_day_CNRM-CM6-1_historical_r1i1p1f2 : 'Dataset' object has no attribute 'name' \n",
      "failed to subset tas_day_CNRM-CM6-1_historical_r1i1p1f2 : 'Dataset' object has no attribute 'name' \n",
      "failed to subset tas_day_CNRM-CM6-1_historical_r1i1p1f2 : 'Dataset' object has no attribute 'name' \n",
      "failed to subset tas_day_CNRM-CM6-1_historical_r1i1p1f2 : 'Dataset' object has no attribute 'name' \n",
      "failed to subset tas_day_CNRM-CM6-1_historical_r1i1p1f2 : 'Dataset' object has no attribute 'name' \n",
      "failed to subset tas_day_CNRM-CM6-1_historical_r1i1p1f2 : 'Dataset' object has no attribute 'name' \n",
      "failed to subset tas_day_CNRM-CM6-1_historical_r1i1p1f2 : 'Dataset' object has no attribute 'name' \n",
      "failed to subset tas_day_CNRM-CM6-1_historical_r1i1p1f2 : 'Dataset' object has no attribute 'name' \n",
      "failed to subset tas_day_CNRM-CM6-1_historical_r1i1p1f2 : 'Dataset' object has no attribute 'name' \n",
      "failed to subset tas_day_CNRM-CM6-1_historical_r1i1p1f2 : 'Dataset' object has no attribute 'name' \n",
      "failed to subset tas_day_CNRM-CM6-1_historical_r1i1p1f2 : 'Dataset' object has no attribute 'name' \n",
      "failed to subset tas_day_CNRM-CM6-1_historical_r1i1p1f2 : 'Dataset' object has no attribute 'name' \n",
      "failed to subset tas_day_CNRM-CM6-1_historical_r1i1p1f2 : 'Dataset' object has no attribute 'name' \n"
     ]
    }
   ],
   "source": [
    "# go for production\n",
    "from os import path\n",
    "\n",
    "conn = SearchConnection('https://esgf-node.ipsl.upmc.fr/esg-search', distrib=False)\n",
    "\n",
    "ex = ['ssp119','ssp126', 'ssp245', 'ssp370', 'ssp434', 'ssp460','ssp585', 'historical']\n",
    "query = ['tas', 'tasmin', 'tasmax', 'pr', 'sfcWind']\n",
    "\n",
    "\n",
    "ctx = conn.new_context(project='CMIP6', query='tas', frequency='day',  experiment_id='historical')\n",
    "print(ctx.hit_count)\n",
    "\n",
    "results = [r for r in ctx.search()]\n",
    "\n",
    "for result in results: \n",
    "    try:\n",
    "        files = result.file_context().search()\n",
    "        urls = [f.opendap_url for f in files]\n",
    "        ds_agg = xr.open_mfdataset(urls, # chunks={'time': 120}, #  files[1].opendap_url],\n",
    "                               combine='nested', concat_dim='time', decode_times=False)\n",
    "        da = ds_agg['tas']\n",
    "        # da = da.isel(time=slice(1000, 2000))\n",
    "        da = da.sel(lat=slice(48, 49), lon=slice(2, 3)) #(lat=slice(0, 50), lon=slice(0, 50)) ,Paris = 48.8534, 2.3488\n",
    "        # download the data to local storage\n",
    "        name = ds_agg.name.split('/')[-1][0:-27]\n",
    "        file = 'data/{}_paris.nc'.format(name) \n",
    "        if path.isfile(file):\n",
    "            print('file {} exist allready'.format(name))\n",
    "        else:    \n",
    "            da.to_netcdf(file)\n",
    "            print('**** Sucessfully fetched {}'.format(name))    \n",
    "    except Exception as e:\n",
    "        print('failed to subset {} : {} '.format(name, e))"
   ]
  },
  {
   "cell_type": "code",
   "execution_count": 13,
   "metadata": {},
   "outputs": [],
   "source": []
  },
  {
   "cell_type": "code",
   "execution_count": 3,
   "metadata": {},
   "outputs": [
    {
     "data": {
      "text/plain": [
       "['http://vesg.ipsl.upmc.fr/thredds/dodsC/cmip6/CMIP/IPSL/IPSL-CM6A-LR/historical/r31i1p1f1/day/tas/gr/v20190614/tas_day_IPSL-CM6A-LR_historical_r31i1p1f1_gr_18500101-20141231.nc']"
      ]
     },
     "execution_count": 3,
     "metadata": {},
     "output_type": "execute_result"
    }
   ],
   "source": [
    "urls"
   ]
  },
  {
   "cell_type": "code",
   "execution_count": 10,
   "metadata": {},
   "outputs": [
    {
     "data": {
      "application/vnd.jupyter.widget-view+json": {
       "model_id": "7dae525b0634409bb4e8343904530b1b",
       "version_major": 2,
       "version_minor": 0
      },
      "text/plain": [
       "HBox(children=(IntProgress(value=0, bar_style='info', description='Processing:'), Button(button_style='danger'…"
      ]
     },
     "metadata": {},
     "output_type": "display_data"
    }
   ],
   "source": []
  },
  {
   "cell_type": "code",
   "execution_count": 11,
   "metadata": {},
   "outputs": [
    {
     "data": {
      "text/plain": [
       "subset_bboxResponse(\n",
       "    output='http://localhost:8092/outputs/dbf15814-c1e0-11ea-9d45-9cb6d08a53e7/tas_day_IPSL-CM6A-LR_historical_r31i1p1f1_gr_18500101-20141231_sub.nc',\n",
       "    ref='http://localhost:8092/outputs/dbf15814-c1e0-11ea-9d45-9cb6d08a53e7/input.meta4'\n",
       ")"
      ]
     },
     "execution_count": 11,
     "metadata": {},
     "output_type": "execute_result"
    }
   ],
   "source": [
    "out.get()"
   ]
  },
  {
   "cell_type": "code",
   "execution_count": 12,
   "metadata": {},
   "outputs": [
    {
     "name": "stdout",
     "output_type": "stream",
     "text": [
      "Metalink content-type detected.\n",
      "\n",
      "Already downloaded tas_day_IPSL-CM6A-LR_historical_r31i1p1f1_gr_18500101-20141231_sub.nc.\n"
     ]
    },
    {
     "data": {
      "text/plain": [
       "['data/tas_day_IPSL-CM6A-LR_historical_r31i1p1f1_gr_18500101-20141231_sub.nc']"
      ]
     },
     "execution_count": 12,
     "metadata": {},
     "output_type": "execute_result"
    }
   ],
   "source": [
    "from metalink import download\n",
    "download.get(out.get()[1], path='data/', segmented=False)"
   ]
  },
  {
   "cell_type": "code",
   "execution_count": null,
   "metadata": {},
   "outputs": [],
   "source": []
  }
 ],
 "metadata": {
  "kernelspec": {
   "display_name": "Python 3",
   "language": "python",
   "name": "python3"
  },
  "language_info": {
   "codemirror_mode": {
    "name": "ipython",
    "version": 3
   },
   "file_extension": ".py",
   "mimetype": "text/x-python",
   "name": "python",
   "nbconvert_exporter": "python",
   "pygments_lexer": "ipython3",
   "version": "3.7.6"
  }
 },
 "nbformat": 4,
 "nbformat_minor": 4
}
