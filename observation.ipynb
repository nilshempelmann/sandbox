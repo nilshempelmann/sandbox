{
 "cells": [
  {
   "cell_type": "code",
   "execution_count": 1,
   "metadata": {},
   "outputs": [],
   "source": [
    "# read in the observation\n",
    "\n",
    "import pandas as pd\n",
    "import xarray as xr\n",
    "import numpy as np\n"
   ]
  },
  {
   "cell_type": "code",
   "execution_count": 2,
   "metadata": {},
   "outputs": [],
   "source": [
    "obs = '/home/nils/ramboll/paris/data/donnees_quotidiennes_montsouris.csv'\n",
    "\n",
    "kw = dict(sep=';', # parse_dates={'time': [0]},\n",
    "          header='infer', index_col=0, squeeze=True, engine='python') # "
   ]
  },
  {
   "cell_type": "code",
   "execution_count": 3,
   "metadata": {},
   "outputs": [],
   "source": [
    "# read into Pandas Series\n",
    "df = []\n",
    "df = pd.read_csv(obs, **kw)\n",
    "# s2 = pd.read_csv(nao_file, **kw)"
   ]
  },
  {
   "cell_type": "code",
   "execution_count": 4,
   "metadata": {},
   "outputs": [],
   "source": [
    "df.index = pd.to_datetime(df.index)"
   ]
  },
  {
   "cell_type": "code",
   "execution_count": 5,
   "metadata": {},
   "outputs": [],
   "source": [
    "df['pr'] =  df['pr']/86400\n",
    "df['tas'] = df['tas'] + 273.15\n",
    "df['tasmin'] = df['tasmin'] + 273.15\n",
    "df['tasmax'] = df['tasmax'] + 273.15"
   ]
  },
  {
   "cell_type": "code",
   "execution_count": 6,
   "metadata": {},
   "outputs": [
    {
     "data": {
      "text/html": [
       "<div>\n",
       "<style scoped>\n",
       "    .dataframe tbody tr th:only-of-type {\n",
       "        vertical-align: middle;\n",
       "    }\n",
       "\n",
       "    .dataframe tbody tr th {\n",
       "        vertical-align: top;\n",
       "    }\n",
       "\n",
       "    .dataframe thead th {\n",
       "        text-align: right;\n",
       "    }\n",
       "</style>\n",
       "<table border=\"1\" class=\"dataframe\">\n",
       "  <thead>\n",
       "    <tr style=\"text-align: right;\">\n",
       "      <th></th>\n",
       "      <th>pr</th>\n",
       "      <th>tasmin</th>\n",
       "      <th>tasmax</th>\n",
       "      <th>tas</th>\n",
       "      <th>sfcWind</th>\n",
       "    </tr>\n",
       "    <tr>\n",
       "      <th>time</th>\n",
       "      <th></th>\n",
       "      <th></th>\n",
       "      <th></th>\n",
       "      <th></th>\n",
       "      <th></th>\n",
       "    </tr>\n",
       "  </thead>\n",
       "  <tbody>\n",
       "    <tr>\n",
       "      <th>1872-07-01</th>\n",
       "      <td>NaN</td>\n",
       "      <td>287.85</td>\n",
       "      <td>295.25</td>\n",
       "      <td>291.55</td>\n",
       "      <td>NaN</td>\n",
       "    </tr>\n",
       "    <tr>\n",
       "      <th>1872-07-02</th>\n",
       "      <td>NaN</td>\n",
       "      <td>284.35</td>\n",
       "      <td>295.55</td>\n",
       "      <td>289.95</td>\n",
       "      <td>NaN</td>\n",
       "    </tr>\n",
       "    <tr>\n",
       "      <th>1872-07-03</th>\n",
       "      <td>NaN</td>\n",
       "      <td>285.25</td>\n",
       "      <td>296.65</td>\n",
       "      <td>290.95</td>\n",
       "      <td>NaN</td>\n",
       "    </tr>\n",
       "    <tr>\n",
       "      <th>1872-07-04</th>\n",
       "      <td>NaN</td>\n",
       "      <td>283.75</td>\n",
       "      <td>298.35</td>\n",
       "      <td>291.05</td>\n",
       "      <td>NaN</td>\n",
       "    </tr>\n",
       "    <tr>\n",
       "      <th>1872-07-05</th>\n",
       "      <td>NaN</td>\n",
       "      <td>287.55</td>\n",
       "      <td>300.35</td>\n",
       "      <td>293.95</td>\n",
       "      <td>NaN</td>\n",
       "    </tr>\n",
       "    <tr>\n",
       "      <th>...</th>\n",
       "      <td>...</td>\n",
       "      <td>...</td>\n",
       "      <td>...</td>\n",
       "      <td>...</td>\n",
       "      <td>...</td>\n",
       "    </tr>\n",
       "    <tr>\n",
       "      <th>2020-06-26</th>\n",
       "      <td>0.000007</td>\n",
       "      <td>294.05</td>\n",
       "      <td>304.95</td>\n",
       "      <td>299.50</td>\n",
       "      <td>3.1</td>\n",
       "    </tr>\n",
       "    <tr>\n",
       "      <th>2020-06-27</th>\n",
       "      <td>0.000012</td>\n",
       "      <td>291.45</td>\n",
       "      <td>296.55</td>\n",
       "      <td>294.00</td>\n",
       "      <td>4.5</td>\n",
       "    </tr>\n",
       "    <tr>\n",
       "      <th>2020-06-28</th>\n",
       "      <td>0.000000</td>\n",
       "      <td>289.35</td>\n",
       "      <td>297.25</td>\n",
       "      <td>293.30</td>\n",
       "      <td>4.0</td>\n",
       "    </tr>\n",
       "    <tr>\n",
       "      <th>2020-06-29</th>\n",
       "      <td>0.000000</td>\n",
       "      <td>288.15</td>\n",
       "      <td>295.55</td>\n",
       "      <td>291.85</td>\n",
       "      <td>3.4</td>\n",
       "    </tr>\n",
       "    <tr>\n",
       "      <th>2020-06-30</th>\n",
       "      <td>0.000000</td>\n",
       "      <td>289.15</td>\n",
       "      <td>296.05</td>\n",
       "      <td>292.60</td>\n",
       "      <td>3.9</td>\n",
       "    </tr>\n",
       "  </tbody>\n",
       "</table>\n",
       "<p>54056 rows × 5 columns</p>\n",
       "</div>"
      ],
      "text/plain": [
       "                  pr  tasmin  tasmax     tas  sfcWind\n",
       "time                                                 \n",
       "1872-07-01       NaN  287.85  295.25  291.55      NaN\n",
       "1872-07-02       NaN  284.35  295.55  289.95      NaN\n",
       "1872-07-03       NaN  285.25  296.65  290.95      NaN\n",
       "1872-07-04       NaN  283.75  298.35  291.05      NaN\n",
       "1872-07-05       NaN  287.55  300.35  293.95      NaN\n",
       "...              ...     ...     ...     ...      ...\n",
       "2020-06-26  0.000007  294.05  304.95  299.50      3.1\n",
       "2020-06-27  0.000012  291.45  296.55  294.00      4.5\n",
       "2020-06-28  0.000000  289.35  297.25  293.30      4.0\n",
       "2020-06-29  0.000000  288.15  295.55  291.85      3.4\n",
       "2020-06-30  0.000000  289.15  296.05  292.60      3.9\n",
       "\n",
       "[54056 rows x 5 columns]"
      ]
     },
     "execution_count": 6,
     "metadata": {},
     "output_type": "execute_result"
    }
   ],
   "source": [
    "df"
   ]
  },
  {
   "cell_type": "code",
   "execution_count": 7,
   "metadata": {},
   "outputs": [],
   "source": [
    "# open target netCDF \n",
    "from netCDF4 import Dataset as ds\n",
    "from netCDF4 import num2date\n",
    "from datetime import datetime as dt\n",
    "import time"
   ]
  },
  {
   "cell_type": "code",
   "execution_count": 8,
   "metadata": {},
   "outputs": [],
   "source": [
    "tas_file = '/home/nils/ramboll/paris/data/tas_day_montsouris-observation.nc'\n",
    "# nc_tas = ds(tas_file, 'a')\n",
    "\n",
    "var_time = nc_tas.variables['time'] \n",
    "var_tas = nc_tas.variables['tas']\n",
    "\n",
    "date_tas = num2date(var_time[:], var_time.units, only_use_cftime_datetimes=False,only_use_python_datetimes=True)\n",
    "var_tas[:] = np.nan\n",
    "\n",
    "ids = date_tas.searchsorted(df.index.to_pydatetime())\n",
    "var_tas[ids] = df['tas'].values\n",
    "\n",
    "nc_tas.close()"
   ]
  },
  {
   "cell_type": "code",
   "execution_count": 12,
   "metadata": {},
   "outputs": [],
   "source": [
    "tasmin_file = '/home/nils/ramboll/paris/data/observation/tasmin_day_montsouris-observation.nc'\n",
    "nc_tasmin = ds(tasmin_file, 'a')\n",
    "\n",
    "var_time = nc_tasmin.variables['time'] \n",
    "var_tasmin = nc_tasmin.variables['tasmin']\n",
    "\n",
    "date_tasmin = num2date(var_time[:], var_time.units, only_use_cftime_datetimes=False,only_use_python_datetimes=True)\n",
    "var_tasmin[:] = np.nan\n",
    "\n",
    "ids = date_tasmin.searchsorted(df.index.to_pydatetime())\n",
    "var_tasmin[ids] = df['tasmin'].values\n",
    "\n",
    "nc_tasmin.close()"
   ]
  },
  {
   "cell_type": "code",
   "execution_count": 13,
   "metadata": {},
   "outputs": [],
   "source": [
    "tasmax_file = '/home/nils/ramboll/paris/data/observation/tasmax_day_montsouris-observation.nc'\n",
    "nc_tasmax = ds(tasmax_file, 'a')\n",
    "\n",
    "var_time = nc_tasmax.variables['time'] \n",
    "var_tasmax = nc_tasmax.variables['tasmax']\n",
    "\n",
    "date_tasmax = num2date(var_time[:], var_time.units, only_use_cftime_datetimes=False,only_use_python_datetimes=True)\n",
    "var_tasmax[:] = np.nan\n",
    "\n",
    "ids = date_tasmax.searchsorted(df.index.to_pydatetime())\n",
    "var_tasmax[ids] = df['tasmax'].values\n",
    "\n",
    "nc_tasmax.close()"
   ]
  },
  {
   "cell_type": "code",
   "execution_count": 10,
   "metadata": {},
   "outputs": [],
   "source": [
    "pr_file = '/home/nils/ramboll/paris/data/observation/pr_day_montsouris-observation.nc'\n",
    "nc_pr = ds(pr_file, 'a')\n",
    "\n",
    "var_pr = nc_pr.variables['pr']\n",
    "var_pr[:] = np.nan\n",
    "\n",
    "var_time = nc_pr.variables['time'] \n",
    "date_pr = num2date(var_time[:], var_time.units, only_use_cftime_datetimes=False,only_use_python_datetimes=True)\n",
    "\n",
    "ids = date_pr.searchsorted(df.index.to_pydatetime())\n",
    "var_pr[ids] = df['pr'].values\n",
    "\n",
    "nc_pr.close()"
   ]
  },
  {
   "cell_type": "code",
   "execution_count": 19,
   "metadata": {},
   "outputs": [],
   "source": [
    "### Start the processing\n",
    "# create filenames \n",
    "def drs_filename(resource, skip_timestamp=False, skip_format=False,\n",
    "                 variable=None, rename_file=False, add_file_path=False):\n",
    "    \n",
    "    \n",
    "    \"\"\"\n",
    "    generates filename according to the data reference syntax (DRS)\n",
    "    based on the metadata in the resource.\n",
    "    http://cmip-pcmdi.llnl.gov/cmip5/docs/cmip5_data_reference_syntax.pdf\n",
    "    https://pypi.python.org/pypi/drslib\n",
    "    :param add_file_path: if add_file_path=True, path to file will be added (default=False)\n",
    "    :param resource: netcdf file\n",
    "    :param skip_timestamp: if True then from/to timestamp != added to the filename\n",
    "                           (default: False)\n",
    "    :param variable: appropriate variable for filename, if not set (default), variable will\n",
    "                      be determined. For files with more than one data variable,\n",
    "                      the variable parameter has to be defined (default: )\n",
    "                      example: variable='tas'\n",
    "    :param rename_file: rename the file. (default: False)\n",
    "    :returns str: DRS filename\n",
    "    \"\"\"\n",
    "    from netCDF4 import Dataset\n",
    "    from flyingpigeon import nc_utils \n",
    "    \n",
    "    timerange = nc_utils.get_timerange(resource)\n",
    "    ds = Dataset(resource)\n",
    "    cmip6_pattern = \"{variable}_{frequency}_{model}_{experiment}_{ensemble}_gr_{start}-{end}.nc\"  #  tas_day_IPSL-CM6A-LR_historical_r28i1p1f1_gr_18500101-20141231_sub.nc\n",
    " \n",
    "#     if frequency == 'yr':\n",
    "    start = timerange[0][0:4]\n",
    "    end = timerange[1][0:4]\n",
    "    \n",
    "    filename = cmip6_pattern.format(\n",
    "                variable=variable,\n",
    "                frequency = ds.frequency,\n",
    "                model=ds.source_id,\n",
    "                experiment=ds.experiment_id,\n",
    "                ensemble=ds.variant_label, # ds.parent_experiment_rip\n",
    "                start=start,\n",
    "                end=end\n",
    "                )\n",
    "\n",
    "    return filename\n",
    "        \n"
   ]
  },
  {
   "cell_type": "code",
   "execution_count": 1,
   "metadata": {},
   "outputs": [],
   "source": [
    "from birdy import WPSClient\n",
    "from os import listdir, path\n",
    "\n",
    "from shutil import move\n",
    "from os.path import join\n",
    "# To display Images from an url\n",
    "from IPython.core.display import HTML\n",
    "from IPython.display import Image"
   ]
  },
  {
   "cell_type": "code",
   "execution_count": 2,
   "metadata": {},
   "outputs": [],
   "source": [
    "finch_url = 'http://localhost:8092'\n",
    "finch = WPSClient(url=finch_url, progress=True)"
   ]
  },
  {
   "cell_type": "code",
   "execution_count": 3,
   "metadata": {},
   "outputs": [],
   "source": [
    "p = '/home/nils/Dropbox/Paris_diag_climat - Documents/5_travail/1_phase1/1_1projections/observation/'\n",
    "tas = join(p, 'tas_day_montsouris-observation.nc')\n",
    "tasmin = join(p, 'tasmin_day_montsouris-observation.nc')\n",
    "tasmax = join(p, 'tasmax_day_montsouris-observation.nc')\n",
    "pr = join(p, 'pr_day_montsouris-observation.nc')\n",
    "\n",
    "#    "
   ]
  },
  {
   "cell_type": "code",
   "execution_count": 4,
   "metadata": {},
   "outputs": [
    {
     "data": {
      "application/vnd.jupyter.widget-view+json": {
       "model_id": "bb82f265e78d47869d63fbce6aae5063",
       "version_major": 2,
       "version_minor": 0
      },
      "text/plain": [
       "HBox(children=(IntProgress(value=0, bar_style='info', description='Processing:'), Button(button_style='danger'…"
      ]
     },
     "metadata": {},
     "output_type": "display_data"
    }
   ],
   "source": [
    "out = finch.wetdays(pr=pr)"
   ]
  },
  {
   "cell_type": "code",
   "execution_count": 9,
   "metadata": {},
   "outputs": [],
   "source": [
    "finch.tx_mean?"
   ]
  },
  {
   "cell_type": "code",
   "execution_count": 5,
   "metadata": {},
   "outputs": [
    {
     "name": "stdout",
     "output_type": "stream",
     "text": [
      "Metalink content-type detected.\n",
      "Downloading to data/tmp/out.nc.\n"
     ]
    }
   ],
   "source": [
    "from metalink import download\n",
    "dl_files = download.get(out.get()[2], path='data/tmp/', segmented=False)"
   ]
  },
  {
   "cell_type": "code",
   "execution_count": 6,
   "metadata": {},
   "outputs": [
    {
     "data": {
      "text/plain": [
       "'/home/nils/Dropbox/Paris_diag_climat - Documents/5_travail/1_phase1/1_1projections/observation/indices/wetdays_yr_montsouris-observation.nc'"
      ]
     },
     "execution_count": 6,
     "metadata": {},
     "output_type": "execute_result"
    }
   ],
   "source": [
    "# move output files to final destination\n",
    "var = 'wetdays'\n",
    "\n",
    "indice_file = '{}_yr_montsouris-observation.nc'.format(var) #    drs_filename(dl_files[0], variable=var)\n",
    "move(dl_files[0], join(p , 'indices/', indice_file) )"
   ]
  },
  {
   "cell_type": "code",
   "execution_count": 98,
   "metadata": {},
   "outputs": [],
   "source": []
  },
  {
   "cell_type": "code",
   "execution_count": null,
   "metadata": {},
   "outputs": [],
   "source": []
  }
 ],
 "metadata": {
  "kernelspec": {
   "display_name": "Python 3",
   "language": "python",
   "name": "python3"
  },
  "language_info": {
   "codemirror_mode": {
    "name": "ipython",
    "version": 3
   },
   "file_extension": ".py",
   "mimetype": "text/x-python",
   "name": "python",
   "nbconvert_exporter": "python",
   "pygments_lexer": "ipython3",
   "version": "3.7.6"
  }
 },
 "nbformat": 4,
 "nbformat_minor": 4
}
