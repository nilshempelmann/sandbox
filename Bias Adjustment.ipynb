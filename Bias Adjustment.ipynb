{
 "cells": [
  {
   "cell_type": "code",
   "execution_count": 6,
   "metadata": {},
   "outputs": [],
   "source": [
    "from xclim import sdba\n",
    "\n",
    "# dqm.train(ref, hist)\n",
    "# scen = dqm.adjust(sim)"
   ]
  },
  {
   "cell_type": "code",
   "execution_count": 7,
   "metadata": {},
   "outputs": [],
   "source": [
    "import xarray as xr\n",
    "import numpy as np\n",
    "from os import path, listdir\n",
    "\n",
    "\n",
    "path_data = '/home/nils/ramboll/paris/data/'\n",
    "path_adjust = '/home/nils/ramboll/paris/data_adjust/'\n",
    "path_pics = '/home/nils/Dropbox/Paris_diag_climat - Documents/9_climate/pics/'\n",
    "path_obs = '/home/nils/Dropbox/Paris_diag_climat - Documents/5_travail/1_phase1/1_1projections/observation/'\n",
    "\n",
    "tas_files = [path.join(path_data,'tas',f) for f in listdir('data/'+ 'tas' )]\n",
    "tasmin_files = [path.join(path_data,'tasmin',f) for f in listdir('data/'+ 'tasmin' )]\n",
    "tasmax_files = [path.join(path_data,'tasmax',f) for f in listdir('data/'+ 'tasmax' )]\n",
    "pr_files = [path.join(path_data,'pr',f) for f in listdir('data/'+ 'pr' )]\n",
    "# xr.concat\n",
    "\n",
    "# Observation:\n"
   ]
  },
  {
   "cell_type": "code",
   "execution_count": 8,
   "metadata": {},
   "outputs": [],
   "source": [
    "def sortssp_by_drsname(resource): \n",
    "    nc_datasets = {}\n",
    "    tmp_dic = {}\n",
    "\n",
    "    try:\n",
    "        for nc in resource:\n",
    "            # LOGGER.info('file: %s' % nc)\n",
    "            p, f = path.split(path.abspath(nc.replace('.nc', '')))\n",
    "            n = f.split('_')\n",
    "            if len([int(i) for i in n[-1].split('-') if i.isdigit()]) == 2:\n",
    "                bn = '_'.join(n[0:-1])  # skipping the date information in the filename\n",
    "                nc_datasets[bn] = []  # dictionary containing all datasets names\n",
    "            elif len([int(i) for i in n[-2].split('-') if i.isdigit()]) == 2:\n",
    "                bn = '_'.join(n[0:-2])  # skipping the date information in the filename\n",
    "                nc_datasets[bn] = []  # dictionary containing all datasets names\n",
    "            else:\n",
    "                print('file is not DRS convention conform!')\n",
    "        \n",
    "            #  select only necessary names\n",
    "            ssp_datasets = nc_datasets.copy()\n",
    "            if any(\"_ssp\" in s for s in nc_datasets.keys()):\n",
    "                for key in nc_datasets.keys():\n",
    "                    if 'historical' in key:\n",
    "                        ssp_datasets.pop(key)\n",
    "                nc_datasets = ssp_datasets.copy()\n",
    "                print('historical data set names removed from dictionary')\n",
    "            else:\n",
    "                print('no SSP dataset names found in dictionary')\n",
    "        print('Got dataset names for dic keys')         \n",
    "    except Exception as e: \n",
    "        print('failed to get dataset names for dic keys {}'.format(e))\n",
    "              \n",
    "    # collect the file according to datasets          \n",
    "    for key in nc_datasets:\n",
    "        try:\n",
    "#             if historical_concatination is False:\n",
    "#                 for n in resource:\n",
    "#                     if '%s_' % key in n:\n",
    "#                         nc_datasets[key].append(path.abspath(n))  # path.join(p, n))\n",
    "#    ex = ['ssp119', 'ssp126', 'ssp245', 'ssp370',  'ssp434','ssp460','ssp585',\n",
    "              \n",
    "#             elif historical_concatination is True:\n",
    "            key_hist = key.replace('ssp119', 'historical').\\\n",
    "                replace('ssp126', 'historical').\\\n",
    "                replace('ssp245', 'historical').\\\n",
    "                replace('ssp370', 'historical').\\\n",
    "                replace('ssp434', 'historical').\\\n",
    "                replace('ssp460', 'historical').\\\n",
    "                replace('ssp585', 'historical')\n",
    "            for n in resource:\n",
    "                if '{}_'.format(key_hist) in n:\n",
    "                    nc_datasets[key].append(path.abspath(n))\n",
    "                if '{}_'.format(key) in n:\n",
    "                    nc_datasets[key].append(path.abspath(n))  # path.join(p, n))\n",
    "#             else:\n",
    "#                 LOGGER.error('append file paths to dictionary for key %s failed' % key)\n",
    "            nc_datasets[key].sort()\n",
    "        except Exception as e:\n",
    "            print('failed for{e}'.fromat(e))          \n",
    "    return nc_datasets"
   ]
  },
  {
   "cell_type": "code",
   "execution_count": null,
   "metadata": {},
   "outputs": [],
   "source": [
    "\n"
   ]
  },
  {
   "cell_type": "code",
   "execution_count": 12,
   "metadata": {},
   "outputs": [
    {
     "name": "stdout",
     "output_type": "stream",
     "text": [
      "historical data set names removed from dictionary\n",
      "historical data set names removed from dictionary\n",
      "historical data set names removed from dictionary\n",
      "historical data set names removed from dictionary\n",
      "historical data set names removed from dictionary\n",
      "historical data set names removed from dictionary\n",
      "historical data set names removed from dictionary\n",
      "historical data set names removed from dictionary\n",
      "historical data set names removed from dictionary\n",
      "historical data set names removed from dictionary\n",
      "historical data set names removed from dictionary\n",
      "historical data set names removed from dictionary\n",
      "historical data set names removed from dictionary\n",
      "historical data set names removed from dictionary\n",
      "historical data set names removed from dictionary\n",
      "historical data set names removed from dictionary\n",
      "historical data set names removed from dictionary\n",
      "historical data set names removed from dictionary\n",
      "historical data set names removed from dictionary\n",
      "historical data set names removed from dictionary\n",
      "historical data set names removed from dictionary\n",
      "historical data set names removed from dictionary\n",
      "historical data set names removed from dictionary\n",
      "historical data set names removed from dictionary\n",
      "historical data set names removed from dictionary\n",
      "historical data set names removed from dictionary\n",
      "historical data set names removed from dictionary\n",
      "historical data set names removed from dictionary\n",
      "historical data set names removed from dictionary\n",
      "historical data set names removed from dictionary\n",
      "historical data set names removed from dictionary\n",
      "historical data set names removed from dictionary\n",
      "historical data set names removed from dictionary\n",
      "historical data set names removed from dictionary\n",
      "historical data set names removed from dictionary\n",
      "historical data set names removed from dictionary\n",
      "historical data set names removed from dictionary\n",
      "historical data set names removed from dictionary\n",
      "historical data set names removed from dictionary\n",
      "historical data set names removed from dictionary\n",
      "historical data set names removed from dictionary\n",
      "historical data set names removed from dictionary\n",
      "historical data set names removed from dictionary\n",
      "historical data set names removed from dictionary\n",
      "historical data set names removed from dictionary\n",
      "historical data set names removed from dictionary\n",
      "historical data set names removed from dictionary\n",
      "historical data set names removed from dictionary\n",
      "historical data set names removed from dictionary\n",
      "historical data set names removed from dictionary\n",
      "historical data set names removed from dictionary\n",
      "historical data set names removed from dictionary\n",
      "historical data set names removed from dictionary\n",
      "historical data set names removed from dictionary\n",
      "historical data set names removed from dictionary\n",
      "historical data set names removed from dictionary\n",
      "historical data set names removed from dictionary\n",
      "historical data set names removed from dictionary\n",
      "historical data set names removed from dictionary\n",
      "historical data set names removed from dictionary\n",
      "historical data set names removed from dictionary\n",
      "historical data set names removed from dictionary\n",
      "historical data set names removed from dictionary\n",
      "historical data set names removed from dictionary\n",
      "historical data set names removed from dictionary\n",
      "historical data set names removed from dictionary\n",
      "historical data set names removed from dictionary\n",
      "historical data set names removed from dictionary\n",
      "historical data set names removed from dictionary\n",
      "historical data set names removed from dictionary\n",
      "historical data set names removed from dictionary\n",
      "historical data set names removed from dictionary\n",
      "historical data set names removed from dictionary\n",
      "historical data set names removed from dictionary\n",
      "historical data set names removed from dictionary\n",
      "historical data set names removed from dictionary\n",
      "historical data set names removed from dictionary\n",
      "historical data set names removed from dictionary\n",
      "historical data set names removed from dictionary\n",
      "historical data set names removed from dictionary\n",
      "historical data set names removed from dictionary\n",
      "historical data set names removed from dictionary\n",
      "historical data set names removed from dictionary\n",
      "historical data set names removed from dictionary\n",
      "historical data set names removed from dictionary\n",
      "historical data set names removed from dictionary\n",
      "historical data set names removed from dictionary\n",
      "historical data set names removed from dictionary\n",
      "historical data set names removed from dictionary\n",
      "historical data set names removed from dictionary\n",
      "historical data set names removed from dictionary\n",
      "historical data set names removed from dictionary\n",
      "historical data set names removed from dictionary\n",
      "historical data set names removed from dictionary\n",
      "historical data set names removed from dictionary\n",
      "historical data set names removed from dictionary\n",
      "historical data set names removed from dictionary\n",
      "historical data set names removed from dictionary\n",
      "historical data set names removed from dictionary\n",
      "historical data set names removed from dictionary\n",
      "historical data set names removed from dictionary\n",
      "historical data set names removed from dictionary\n",
      "historical data set names removed from dictionary\n",
      "historical data set names removed from dictionary\n",
      "historical data set names removed from dictionary\n",
      "historical data set names removed from dictionary\n",
      "historical data set names removed from dictionary\n",
      "historical data set names removed from dictionary\n",
      "historical data set names removed from dictionary\n",
      "historical data set names removed from dictionary\n",
      "historical data set names removed from dictionary\n",
      "historical data set names removed from dictionary\n",
      "historical data set names removed from dictionary\n",
      "historical data set names removed from dictionary\n",
      "historical data set names removed from dictionary\n",
      "historical data set names removed from dictionary\n",
      "historical data set names removed from dictionary\n",
      "historical data set names removed from dictionary\n",
      "historical data set names removed from dictionary\n",
      "historical data set names removed from dictionary\n",
      "historical data set names removed from dictionary\n",
      "historical data set names removed from dictionary\n",
      "historical data set names removed from dictionary\n",
      "historical data set names removed from dictionary\n",
      "historical data set names removed from dictionary\n",
      "historical data set names removed from dictionary\n",
      "historical data set names removed from dictionary\n",
      "historical data set names removed from dictionary\n",
      "historical data set names removed from dictionary\n",
      "historical data set names removed from dictionary\n",
      "historical data set names removed from dictionary\n",
      "historical data set names removed from dictionary\n",
      "historical data set names removed from dictionary\n",
      "historical data set names removed from dictionary\n",
      "historical data set names removed from dictionary\n",
      "historical data set names removed from dictionary\n",
      "historical data set names removed from dictionary\n",
      "historical data set names removed from dictionary\n",
      "historical data set names removed from dictionary\n",
      "historical data set names removed from dictionary\n",
      "historical data set names removed from dictionary\n",
      "historical data set names removed from dictionary\n",
      "historical data set names removed from dictionary\n",
      "historical data set names removed from dictionary\n",
      "historical data set names removed from dictionary\n",
      "historical data set names removed from dictionary\n",
      "historical data set names removed from dictionary\n",
      "historical data set names removed from dictionary\n",
      "historical data set names removed from dictionary\n",
      "historical data set names removed from dictionary\n",
      "historical data set names removed from dictionary\n",
      "historical data set names removed from dictionary\n",
      "historical data set names removed from dictionary\n",
      "historical data set names removed from dictionary\n",
      "historical data set names removed from dictionary\n",
      "historical data set names removed from dictionary\n",
      "historical data set names removed from dictionary\n",
      "historical data set names removed from dictionary\n",
      "historical data set names removed from dictionary\n",
      "historical data set names removed from dictionary\n",
      "historical data set names removed from dictionary\n",
      "historical data set names removed from dictionary\n",
      "historical data set names removed from dictionary\n",
      "historical data set names removed from dictionary\n",
      "historical data set names removed from dictionary\n",
      "historical data set names removed from dictionary\n",
      "historical data set names removed from dictionary\n",
      "historical data set names removed from dictionary\n",
      "historical data set names removed from dictionary\n",
      "historical data set names removed from dictionary\n",
      "historical data set names removed from dictionary\n",
      "historical data set names removed from dictionary\n",
      "historical data set names removed from dictionary\n",
      "historical data set names removed from dictionary\n",
      "historical data set names removed from dictionary\n",
      "historical data set names removed from dictionary\n",
      "historical data set names removed from dictionary\n",
      "historical data set names removed from dictionary\n",
      "historical data set names removed from dictionary\n",
      "historical data set names removed from dictionary\n",
      "historical data set names removed from dictionary\n",
      "Got dataset names for dic keys\n"
     ]
    },
    {
     "name": "stderr",
     "output_type": "stream",
     "text": [
      "/home/nils/anaconda3/envs/flyingpigeon/lib/python3.7/site-packages/xarray/conventions.py:427: UserWarning: Variable 'time' has datetime type and a bounds variable but time.encoding does not have units specified. The units encodings for 'time' and 'time_bounds' will be determined independently and may not be equal, counter to CF-conventions. If this is a concern, specify a units encoding for 'time' before writing to a file.\n",
      "  UserWarning,\n",
      "/home/nils/anaconda3/envs/flyingpigeon/lib/python3.7/site-packages/xarray/conventions.py:427: UserWarning: Variable 'time' has datetime type and a bounds variable but time.encoding does not have units specified. The units encodings for 'time' and 'time_bounds' will be determined independently and may not be equal, counter to CF-conventions. If this is a concern, specify a units encoding for 'time' before writing to a file.\n",
      "  UserWarning,\n",
      "/home/nils/anaconda3/envs/flyingpigeon/lib/python3.7/site-packages/xarray/conventions.py:427: UserWarning: Variable 'time' has datetime type and a bounds variable but time.encoding does not have units specified. The units encodings for 'time' and 'time_bounds' will be determined independently and may not be equal, counter to CF-conventions. If this is a concern, specify a units encoding for 'time' before writing to a file.\n",
      "  UserWarning,\n",
      "/home/nils/anaconda3/envs/flyingpigeon/lib/python3.7/site-packages/xarray/conventions.py:427: UserWarning: Variable 'time' has datetime type and a bounds variable but time.encoding does not have units specified. The units encodings for 'time' and 'time_bounds' will be determined independently and may not be equal, counter to CF-conventions. If this is a concern, specify a units encoding for 'time' before writing to a file.\n",
      "  UserWarning,\n",
      "/home/nils/anaconda3/envs/flyingpigeon/lib/python3.7/site-packages/xarray/conventions.py:427: UserWarning: Variable 'time' has datetime type and a bounds variable but time.encoding does not have units specified. The units encodings for 'time' and 'time_bounds' will be determined independently and may not be equal, counter to CF-conventions. If this is a concern, specify a units encoding for 'time' before writing to a file.\n",
      "  UserWarning,\n",
      "/home/nils/anaconda3/envs/flyingpigeon/lib/python3.7/site-packages/xarray/conventions.py:427: UserWarning: Variable 'time' has datetime type and a bounds variable but time.encoding does not have units specified. The units encodings for 'time' and 'time_bounds' will be determined independently and may not be equal, counter to CF-conventions. If this is a concern, specify a units encoding for 'time' before writing to a file.\n",
      "  UserWarning,\n",
      "/home/nils/anaconda3/envs/flyingpigeon/lib/python3.7/site-packages/xarray/conventions.py:427: UserWarning: Variable 'time' has datetime type and a bounds variable but time.encoding does not have units specified. The units encodings for 'time' and 'time_bounds' will be determined independently and may not be equal, counter to CF-conventions. If this is a concern, specify a units encoding for 'time' before writing to a file.\n",
      "  UserWarning,\n",
      "/home/nils/anaconda3/envs/flyingpigeon/lib/python3.7/site-packages/xarray/conventions.py:427: UserWarning: Variable 'time' has datetime type and a bounds variable but time.encoding does not have units specified. The units encodings for 'time' and 'time_bounds' will be determined independently and may not be equal, counter to CF-conventions. If this is a concern, specify a units encoding for 'time' before writing to a file.\n",
      "  UserWarning,\n",
      "/home/nils/anaconda3/envs/flyingpigeon/lib/python3.7/site-packages/xarray/conventions.py:427: UserWarning: Variable 'time' has datetime type and a bounds variable but time.encoding does not have units specified. The units encodings for 'time' and 'time_bounds' will be determined independently and may not be equal, counter to CF-conventions. If this is a concern, specify a units encoding for 'time' before writing to a file.\n",
      "  UserWarning,\n",
      "/home/nils/anaconda3/envs/flyingpigeon/lib/python3.7/site-packages/xarray/conventions.py:427: UserWarning: Variable 'time' has datetime type and a bounds variable but time.encoding does not have units specified. The units encodings for 'time' and 'time_bounds' will be determined independently and may not be equal, counter to CF-conventions. If this is a concern, specify a units encoding for 'time' before writing to a file.\n",
      "  UserWarning,\n",
      "/home/nils/anaconda3/envs/flyingpigeon/lib/python3.7/site-packages/xarray/conventions.py:427: UserWarning: Variable 'time' has datetime type and a bounds variable but time.encoding does not have units specified. The units encodings for 'time' and 'time_bounds' will be determined independently and may not be equal, counter to CF-conventions. If this is a concern, specify a units encoding for 'time' before writing to a file.\n",
      "  UserWarning,\n",
      "/home/nils/anaconda3/envs/flyingpigeon/lib/python3.7/site-packages/xarray/conventions.py:427: UserWarning: Variable 'time' has datetime type and a bounds variable but time.encoding does not have units specified. The units encodings for 'time' and 'time_bounds' will be determined independently and may not be equal, counter to CF-conventions. If this is a concern, specify a units encoding for 'time' before writing to a file.\n",
      "  UserWarning,\n",
      "/home/nils/anaconda3/envs/flyingpigeon/lib/python3.7/site-packages/xarray/conventions.py:427: UserWarning: Variable 'time' has datetime type and a bounds variable but time.encoding does not have units specified. The units encodings for 'time' and 'time_bounds' will be determined independently and may not be equal, counter to CF-conventions. If this is a concern, specify a units encoding for 'time' before writing to a file.\n",
      "  UserWarning,\n",
      "/home/nils/anaconda3/envs/flyingpigeon/lib/python3.7/site-packages/xarray/conventions.py:427: UserWarning: Variable 'time' has datetime type and a bounds variable but time.encoding does not have units specified. The units encodings for 'time' and 'time_bounds' will be determined independently and may not be equal, counter to CF-conventions. If this is a concern, specify a units encoding for 'time' before writing to a file.\n",
      "  UserWarning,\n",
      "/home/nils/anaconda3/envs/flyingpigeon/lib/python3.7/site-packages/xarray/conventions.py:427: UserWarning: Variable 'time' has datetime type and a bounds variable but time.encoding does not have units specified. The units encodings for 'time' and 'time_bounds' will be determined independently and may not be equal, counter to CF-conventions. If this is a concern, specify a units encoding for 'time' before writing to a file.\n",
      "  UserWarning,\n"
     ]
    },
    {
     "name": "stdout",
     "output_type": "stream",
     "text": [
      "failed for pr_day_IPSL-CM6A-LR_ssp460_r1i1p1f2_gr : dayofyear must not be empty\n"
     ]
    },
    {
     "name": "stderr",
     "output_type": "stream",
     "text": [
      "/home/nils/anaconda3/envs/flyingpigeon/lib/python3.7/site-packages/xarray/conventions.py:427: UserWarning: Variable 'time' has datetime type and a bounds variable but time.encoding does not have units specified. The units encodings for 'time' and 'time_bounds' will be determined independently and may not be equal, counter to CF-conventions. If this is a concern, specify a units encoding for 'time' before writing to a file.\n",
      "  UserWarning,\n",
      "/home/nils/anaconda3/envs/flyingpigeon/lib/python3.7/site-packages/xarray/conventions.py:427: UserWarning: Variable 'time' has datetime type and a bounds variable but time.encoding does not have units specified. The units encodings for 'time' and 'time_bounds' will be determined independently and may not be equal, counter to CF-conventions. If this is a concern, specify a units encoding for 'time' before writing to a file.\n",
      "  UserWarning,\n",
      "/home/nils/anaconda3/envs/flyingpigeon/lib/python3.7/site-packages/xarray/conventions.py:427: UserWarning: Variable 'time' has datetime type and a bounds variable but time.encoding does not have units specified. The units encodings for 'time' and 'time_bounds' will be determined independently and may not be equal, counter to CF-conventions. If this is a concern, specify a units encoding for 'time' before writing to a file.\n",
      "  UserWarning,\n",
      "/home/nils/anaconda3/envs/flyingpigeon/lib/python3.7/site-packages/xarray/conventions.py:427: UserWarning: Variable 'time' has datetime type and a bounds variable but time.encoding does not have units specified. The units encodings for 'time' and 'time_bounds' will be determined independently and may not be equal, counter to CF-conventions. If this is a concern, specify a units encoding for 'time' before writing to a file.\n",
      "  UserWarning,\n",
      "/home/nils/anaconda3/envs/flyingpigeon/lib/python3.7/site-packages/xarray/conventions.py:427: UserWarning: Variable 'time' has datetime type and a bounds variable but time.encoding does not have units specified. The units encodings for 'time' and 'time_bounds' will be determined independently and may not be equal, counter to CF-conventions. If this is a concern, specify a units encoding for 'time' before writing to a file.\n",
      "  UserWarning,\n",
      "/home/nils/anaconda3/envs/flyingpigeon/lib/python3.7/site-packages/xarray/conventions.py:427: UserWarning: Variable 'time' has datetime type and a bounds variable but time.encoding does not have units specified. The units encodings for 'time' and 'time_bounds' will be determined independently and may not be equal, counter to CF-conventions. If this is a concern, specify a units encoding for 'time' before writing to a file.\n",
      "  UserWarning,\n",
      "/home/nils/anaconda3/envs/flyingpigeon/lib/python3.7/site-packages/xarray/conventions.py:427: UserWarning: Variable 'time' has datetime type and a bounds variable but time.encoding does not have units specified. The units encodings for 'time' and 'time_bounds' will be determined independently and may not be equal, counter to CF-conventions. If this is a concern, specify a units encoding for 'time' before writing to a file.\n",
      "  UserWarning,\n",
      "/home/nils/anaconda3/envs/flyingpigeon/lib/python3.7/site-packages/xarray/conventions.py:427: UserWarning: Variable 'time' has datetime type and a bounds variable but time.encoding does not have units specified. The units encodings for 'time' and 'time_bounds' will be determined independently and may not be equal, counter to CF-conventions. If this is a concern, specify a units encoding for 'time' before writing to a file.\n",
      "  UserWarning,\n",
      "/home/nils/anaconda3/envs/flyingpigeon/lib/python3.7/site-packages/xarray/conventions.py:427: UserWarning: Variable 'time' has datetime type and a bounds variable but time.encoding does not have units specified. The units encodings for 'time' and 'time_bounds' will be determined independently and may not be equal, counter to CF-conventions. If this is a concern, specify a units encoding for 'time' before writing to a file.\n",
      "  UserWarning,\n",
      "/home/nils/anaconda3/envs/flyingpigeon/lib/python3.7/site-packages/xarray/conventions.py:427: UserWarning: Variable 'time' has datetime type and a bounds variable but time.encoding does not have units specified. The units encodings for 'time' and 'time_bounds' will be determined independently and may not be equal, counter to CF-conventions. If this is a concern, specify a units encoding for 'time' before writing to a file.\n",
      "  UserWarning,\n",
      "/home/nils/anaconda3/envs/flyingpigeon/lib/python3.7/site-packages/xarray/conventions.py:427: UserWarning: Variable 'time' has datetime type and a bounds variable but time.encoding does not have units specified. The units encodings for 'time' and 'time_bounds' will be determined independently and may not be equal, counter to CF-conventions. If this is a concern, specify a units encoding for 'time' before writing to a file.\n",
      "  UserWarning,\n",
      "/home/nils/anaconda3/envs/flyingpigeon/lib/python3.7/site-packages/xarray/conventions.py:427: UserWarning: Variable 'time' has datetime type and a bounds variable but time.encoding does not have units specified. The units encodings for 'time' and 'time_bounds' will be determined independently and may not be equal, counter to CF-conventions. If this is a concern, specify a units encoding for 'time' before writing to a file.\n",
      "  UserWarning,\n",
      "/home/nils/anaconda3/envs/flyingpigeon/lib/python3.7/site-packages/xarray/conventions.py:427: UserWarning: Variable 'time' has datetime type and a bounds variable but time.encoding does not have units specified. The units encodings for 'time' and 'time_bounds' will be determined independently and may not be equal, counter to CF-conventions. If this is a concern, specify a units encoding for 'time' before writing to a file.\n",
      "  UserWarning,\n",
      "/home/nils/anaconda3/envs/flyingpigeon/lib/python3.7/site-packages/xarray/conventions.py:427: UserWarning: Variable 'time' has datetime type and a bounds variable but time.encoding does not have units specified. The units encodings for 'time' and 'time_bounds' will be determined independently and may not be equal, counter to CF-conventions. If this is a concern, specify a units encoding for 'time' before writing to a file.\n",
      "  UserWarning,\n",
      "/home/nils/anaconda3/envs/flyingpigeon/lib/python3.7/site-packages/xarray/conventions.py:427: UserWarning: Variable 'time' has datetime type and a bounds variable but time.encoding does not have units specified. The units encodings for 'time' and 'time_bounds' will be determined independently and may not be equal, counter to CF-conventions. If this is a concern, specify a units encoding for 'time' before writing to a file.\n",
      "  UserWarning,\n",
      "/home/nils/anaconda3/envs/flyingpigeon/lib/python3.7/site-packages/xarray/conventions.py:427: UserWarning: Variable 'time' has datetime type and a bounds variable but time.encoding does not have units specified. The units encodings for 'time' and 'time_bounds' will be determined independently and may not be equal, counter to CF-conventions. If this is a concern, specify a units encoding for 'time' before writing to a file.\n",
      "  UserWarning,\n",
      "/home/nils/anaconda3/envs/flyingpigeon/lib/python3.7/site-packages/xarray/conventions.py:427: UserWarning: Variable 'time' has datetime type and a bounds variable but time.encoding does not have units specified. The units encodings for 'time' and 'time_bounds' will be determined independently and may not be equal, counter to CF-conventions. If this is a concern, specify a units encoding for 'time' before writing to a file.\n",
      "  UserWarning,\n",
      "/home/nils/anaconda3/envs/flyingpigeon/lib/python3.7/site-packages/xarray/conventions.py:427: UserWarning: Variable 'time' has datetime type and a bounds variable but time.encoding does not have units specified. The units encodings for 'time' and 'time_bounds' will be determined independently and may not be equal, counter to CF-conventions. If this is a concern, specify a units encoding for 'time' before writing to a file.\n",
      "  UserWarning,\n",
      "/home/nils/anaconda3/envs/flyingpigeon/lib/python3.7/site-packages/xarray/conventions.py:427: UserWarning: Variable 'time' has datetime type and a bounds variable but time.encoding does not have units specified. The units encodings for 'time' and 'time_bounds' will be determined independently and may not be equal, counter to CF-conventions. If this is a concern, specify a units encoding for 'time' before writing to a file.\n",
      "  UserWarning,\n"
     ]
    },
    {
     "name": "stderr",
     "output_type": "stream",
     "text": [
      "/home/nils/anaconda3/envs/flyingpigeon/lib/python3.7/site-packages/xarray/conventions.py:427: UserWarning: Variable 'time' has datetime type and a bounds variable but time.encoding does not have units specified. The units encodings for 'time' and 'time_bounds' will be determined independently and may not be equal, counter to CF-conventions. If this is a concern, specify a units encoding for 'time' before writing to a file.\n",
      "  UserWarning,\n",
      "/home/nils/anaconda3/envs/flyingpigeon/lib/python3.7/site-packages/xarray/conventions.py:427: UserWarning: Variable 'time' has datetime type and a bounds variable but time.encoding does not have units specified. The units encodings for 'time' and 'time_bounds' will be determined independently and may not be equal, counter to CF-conventions. If this is a concern, specify a units encoding for 'time' before writing to a file.\n",
      "  UserWarning,\n",
      "/home/nils/anaconda3/envs/flyingpigeon/lib/python3.7/site-packages/xarray/conventions.py:427: UserWarning: Variable 'time' has datetime type and a bounds variable but time.encoding does not have units specified. The units encodings for 'time' and 'time_bounds' will be determined independently and may not be equal, counter to CF-conventions. If this is a concern, specify a units encoding for 'time' before writing to a file.\n",
      "  UserWarning,\n",
      "/home/nils/anaconda3/envs/flyingpigeon/lib/python3.7/site-packages/xarray/conventions.py:427: UserWarning: Variable 'time' has datetime type and a bounds variable but time.encoding does not have units specified. The units encodings for 'time' and 'time_bounds' will be determined independently and may not be equal, counter to CF-conventions. If this is a concern, specify a units encoding for 'time' before writing to a file.\n",
      "  UserWarning,\n",
      "/home/nils/anaconda3/envs/flyingpigeon/lib/python3.7/site-packages/xarray/conventions.py:427: UserWarning: Variable 'time' has datetime type and a bounds variable but time.encoding does not have units specified. The units encodings for 'time' and 'time_bounds' will be determined independently and may not be equal, counter to CF-conventions. If this is a concern, specify a units encoding for 'time' before writing to a file.\n",
      "  UserWarning,\n",
      "/home/nils/anaconda3/envs/flyingpigeon/lib/python3.7/site-packages/xarray/conventions.py:427: UserWarning: Variable 'time' has datetime type and a bounds variable but time.encoding does not have units specified. The units encodings for 'time' and 'time_bounds' will be determined independently and may not be equal, counter to CF-conventions. If this is a concern, specify a units encoding for 'time' before writing to a file.\n",
      "  UserWarning,\n",
      "/home/nils/anaconda3/envs/flyingpigeon/lib/python3.7/site-packages/xarray/conventions.py:427: UserWarning: Variable 'time' has datetime type and a bounds variable but time.encoding does not have units specified. The units encodings for 'time' and 'time_bounds' will be determined independently and may not be equal, counter to CF-conventions. If this is a concern, specify a units encoding for 'time' before writing to a file.\n",
      "  UserWarning,\n",
      "/home/nils/anaconda3/envs/flyingpigeon/lib/python3.7/site-packages/xarray/conventions.py:427: UserWarning: Variable 'time' has datetime type and a bounds variable but time.encoding does not have units specified. The units encodings for 'time' and 'time_bounds' will be determined independently and may not be equal, counter to CF-conventions. If this is a concern, specify a units encoding for 'time' before writing to a file.\n",
      "  UserWarning,\n",
      "/home/nils/anaconda3/envs/flyingpigeon/lib/python3.7/site-packages/xarray/conventions.py:427: UserWarning: Variable 'time' has datetime type and a bounds variable but time.encoding does not have units specified. The units encodings for 'time' and 'time_bounds' will be determined independently and may not be equal, counter to CF-conventions. If this is a concern, specify a units encoding for 'time' before writing to a file.\n",
      "  UserWarning,\n",
      "/home/nils/anaconda3/envs/flyingpigeon/lib/python3.7/site-packages/xarray/conventions.py:427: UserWarning: Variable 'time' has datetime type and a bounds variable but time.encoding does not have units specified. The units encodings for 'time' and 'time_bounds' will be determined independently and may not be equal, counter to CF-conventions. If this is a concern, specify a units encoding for 'time' before writing to a file.\n",
      "  UserWarning,\n",
      "/home/nils/anaconda3/envs/flyingpigeon/lib/python3.7/site-packages/xarray/conventions.py:427: UserWarning: Variable 'time' has datetime type and a bounds variable but time.encoding does not have units specified. The units encodings for 'time' and 'time_bounds' will be determined independently and may not be equal, counter to CF-conventions. If this is a concern, specify a units encoding for 'time' before writing to a file.\n",
      "  UserWarning,\n",
      "/home/nils/anaconda3/envs/flyingpigeon/lib/python3.7/site-packages/xarray/conventions.py:427: UserWarning: Variable 'time' has datetime type and a bounds variable but time.encoding does not have units specified. The units encodings for 'time' and 'time_bounds' will be determined independently and may not be equal, counter to CF-conventions. If this is a concern, specify a units encoding for 'time' before writing to a file.\n",
      "  UserWarning,\n",
      "/home/nils/anaconda3/envs/flyingpigeon/lib/python3.7/site-packages/xarray/conventions.py:427: UserWarning: Variable 'time' has datetime type and a bounds variable but time.encoding does not have units specified. The units encodings for 'time' and 'time_bounds' will be determined independently and may not be equal, counter to CF-conventions. If this is a concern, specify a units encoding for 'time' before writing to a file.\n",
      "  UserWarning,\n",
      "/home/nils/anaconda3/envs/flyingpigeon/lib/python3.7/site-packages/xarray/conventions.py:427: UserWarning: Variable 'time' has datetime type and a bounds variable but time.encoding does not have units specified. The units encodings for 'time' and 'time_bounds' will be determined independently and may not be equal, counter to CF-conventions. If this is a concern, specify a units encoding for 'time' before writing to a file.\n",
      "  UserWarning,\n",
      "/home/nils/anaconda3/envs/flyingpigeon/lib/python3.7/site-packages/xarray/conventions.py:427: UserWarning: Variable 'time' has datetime type and a bounds variable but time.encoding does not have units specified. The units encodings for 'time' and 'time_bounds' will be determined independently and may not be equal, counter to CF-conventions. If this is a concern, specify a units encoding for 'time' before writing to a file.\n",
      "  UserWarning,\n",
      "/home/nils/anaconda3/envs/flyingpigeon/lib/python3.7/site-packages/xarray/conventions.py:427: UserWarning: Variable 'time' has datetime type and a bounds variable but time.encoding does not have units specified. The units encodings for 'time' and 'time_bounds' will be determined independently and may not be equal, counter to CF-conventions. If this is a concern, specify a units encoding for 'time' before writing to a file.\n",
      "  UserWarning,\n",
      "/home/nils/anaconda3/envs/flyingpigeon/lib/python3.7/site-packages/xarray/conventions.py:427: UserWarning: Variable 'time' has datetime type and a bounds variable but time.encoding does not have units specified. The units encodings for 'time' and 'time_bounds' will be determined independently and may not be equal, counter to CF-conventions. If this is a concern, specify a units encoding for 'time' before writing to a file.\n",
      "  UserWarning,\n",
      "/home/nils/anaconda3/envs/flyingpigeon/lib/python3.7/site-packages/xarray/conventions.py:427: UserWarning: Variable 'time' has datetime type and a bounds variable but time.encoding does not have units specified. The units encodings for 'time' and 'time_bounds' will be determined independently and may not be equal, counter to CF-conventions. If this is a concern, specify a units encoding for 'time' before writing to a file.\n",
      "  UserWarning,\n",
      "/home/nils/anaconda3/envs/flyingpigeon/lib/python3.7/site-packages/xarray/conventions.py:427: UserWarning: Variable 'time' has datetime type and a bounds variable but time.encoding does not have units specified. The units encodings for 'time' and 'time_bounds' will be determined independently and may not be equal, counter to CF-conventions. If this is a concern, specify a units encoding for 'time' before writing to a file.\n",
      "  UserWarning,\n"
     ]
    },
    {
     "name": "stderr",
     "output_type": "stream",
     "text": [
      "/home/nils/anaconda3/envs/flyingpigeon/lib/python3.7/site-packages/xarray/conventions.py:427: UserWarning: Variable 'time' has datetime type and a bounds variable but time.encoding does not have units specified. The units encodings for 'time' and 'time_bounds' will be determined independently and may not be equal, counter to CF-conventions. If this is a concern, specify a units encoding for 'time' before writing to a file.\n",
      "  UserWarning,\n",
      "/home/nils/anaconda3/envs/flyingpigeon/lib/python3.7/site-packages/xarray/conventions.py:427: UserWarning: Variable 'time' has datetime type and a bounds variable but time.encoding does not have units specified. The units encodings for 'time' and 'time_bounds' will be determined independently and may not be equal, counter to CF-conventions. If this is a concern, specify a units encoding for 'time' before writing to a file.\n",
      "  UserWarning,\n"
     ]
    }
   ],
   "source": [
    "ds = sortssp_by_drsname(pr_files)\n",
    "\n",
    "var = 'pr'\n",
    "tas_obs = xr.open_dataset(path.join(path_obs + '{}_day_montsouris-observation.nc'.format(var)))\n",
    "\n",
    "for key in ds:\n",
    "    try:\n",
    "        files = []\n",
    "        for f in ds[key]:\n",
    "            files.append(xr.open_dataset(f))\n",
    "\n",
    "        ts = xr.concat(files, 'time')\n",
    "        ts.attrs['experiment_id'] = key.split('_')[3]\n",
    "\n",
    "        dqm = sdba.adjustment.DetrendedQuantileMapping()\n",
    "        # dqm = sdba.EmpiricalQuantileMapping(nquantiles=20, group='time', kind='+')\n",
    "        # QM.train(ref, hist)\n",
    "\n",
    "        dqm.train(tas_obs[var].sel(time=slice(\"1971-01-01\", \"2000-12-31\")), \n",
    "                  ts[var].sel(time=slice(\"1971-01-01\", \"2000-12-31\")))\n",
    "        scen = dqm.adjust(ts[var])\n",
    "        ts[var].values = scen.values\n",
    "        out_file = path.join(path_adjust, var, '{}.nc'.format(key))\n",
    "        ts.to_netcdf(out_file, unlimited_dims='time')\n",
    "        ts.close()\n",
    "    except Exception as e: \n",
    "        print('failed for {} : {}'.format(key, e))"
   ]
  },
  {
   "cell_type": "code",
   "execution_count": 111,
   "metadata": {},
   "outputs": [
    {
     "data": {
      "text/plain": [
       "'ssp126'"
      ]
     },
     "execution_count": 111,
     "metadata": {},
     "output_type": "execute_result"
    }
   ],
   "source": []
  },
  {
   "cell_type": "code",
   "execution_count": null,
   "metadata": {},
   "outputs": [],
   "source": [
    "tas_day_CNRM-ESM2-1_ssp126_r4i1p1f2_gr\n",
    "tas_day_IPSL-CM6A-LR_ssp460_r1i1p1f2_gr"
   ]
  },
  {
   "cell_type": "code",
   "execution_count": 104,
   "metadata": {},
   "outputs": [
    {
     "data": {
      "text/plain": [
       "'/home/nils/ramboll/paris/data_ajust/tas/tas_day_CNRM-ESM2-1_ssp245_r4i1p1f2_gr.nc'"
      ]
     },
     "execution_count": 104,
     "metadata": {},
     "output_type": "execute_result"
    }
   ],
   "source": [
    "\n",
    "out_file = path.join(path_adjust, var, '{}.nc'.format(key))\n",
    "out_file"
   ]
  },
  {
   "cell_type": "code",
   "execution_count": 92,
   "metadata": {},
   "outputs": [
    {
     "ename": "ValueError",
     "evalue": "Multiple chunks along the main adjustment dimension time is not supported.",
     "output_type": "error",
     "traceback": [
      "\u001b[0;31m---------------------------------------------------------------------------\u001b[0m",
      "\u001b[0;31mValueError\u001b[0m                                Traceback (most recent call last)",
      "\u001b[0;32m<ipython-input-92-c8e4051ebff0>\u001b[0m in \u001b[0;36m<module>\u001b[0;34m\u001b[0m\n\u001b[0;32m----> 1\u001b[0;31m \u001b[0mscen\u001b[0m \u001b[0;34m=\u001b[0m \u001b[0mdqm\u001b[0m\u001b[0;34m.\u001b[0m\u001b[0madjust\u001b[0m\u001b[0;34m(\u001b[0m\u001b[0mts\u001b[0m\u001b[0;34m[\u001b[0m\u001b[0mvar\u001b[0m\u001b[0;34m]\u001b[0m\u001b[0;34m)\u001b[0m\u001b[0;34m\u001b[0m\u001b[0;34m\u001b[0m\u001b[0m\n\u001b[0m\u001b[1;32m      2\u001b[0m \u001b[0;31m# ts['tas'].values = scen.values\u001b[0m\u001b[0;34m\u001b[0m\u001b[0;34m\u001b[0m\u001b[0;34m\u001b[0m\u001b[0m\n\u001b[1;32m      3\u001b[0m \u001b[0;31m# ts.to_netcdf(path.join(path_adjust,var , \"/{}.nc\".format(key)), unlimited_dims='time')\u001b[0m\u001b[0;34m\u001b[0m\u001b[0;34m\u001b[0m\u001b[0;34m\u001b[0m\u001b[0m\n\u001b[1;32m      4\u001b[0m \u001b[0;31m# ts.close()\u001b[0m\u001b[0;34m\u001b[0m\u001b[0;34m\u001b[0m\u001b[0;34m\u001b[0m\u001b[0m\n",
      "\u001b[0;32m~/anaconda3/envs/flyingpigeon/lib/python3.7/site-packages/xclim/sdba/adjustment.py\u001b[0m in \u001b[0;36madjust\u001b[0;34m(self, sim, **kwargs)\u001b[0m\n\u001b[1;32m    104\u001b[0m         \u001b[0;32mif\u001b[0m \u001b[0mhasattr\u001b[0m\u001b[0;34m(\u001b[0m\u001b[0mself\u001b[0m\u001b[0;34m,\u001b[0m \u001b[0;34m\"group\"\u001b[0m\u001b[0;34m)\u001b[0m\u001b[0;34m:\u001b[0m\u001b[0;34m\u001b[0m\u001b[0;34m\u001b[0m\u001b[0m\n\u001b[1;32m    105\u001b[0m             \u001b[0;31m# Right now there is no other way of getting the main adjustment dimension\u001b[0m\u001b[0;34m\u001b[0m\u001b[0;34m\u001b[0m\u001b[0;34m\u001b[0m\u001b[0m\n\u001b[0;32m--> 106\u001b[0;31m             \u001b[0m_raise_on_multiple_chunk\u001b[0m\u001b[0;34m(\u001b[0m\u001b[0msim\u001b[0m\u001b[0;34m,\u001b[0m \u001b[0mself\u001b[0m\u001b[0;34m.\u001b[0m\u001b[0mgroup\u001b[0m\u001b[0;34m.\u001b[0m\u001b[0mdim\u001b[0m\u001b[0;34m)\u001b[0m\u001b[0;34m\u001b[0m\u001b[0;34m\u001b[0m\u001b[0m\n\u001b[0m\u001b[1;32m    107\u001b[0m \u001b[0;34m\u001b[0m\u001b[0m\n\u001b[1;32m    108\u001b[0m             if (\n",
      "\u001b[0;32m~/anaconda3/envs/flyingpigeon/lib/python3.7/site-packages/xclim/sdba/adjustment.py\u001b[0m in \u001b[0;36m_raise_on_multiple_chunk\u001b[0;34m(da, main_dim)\u001b[0m\n\u001b[1;32m     38\u001b[0m     \u001b[0;32mif\u001b[0m \u001b[0mda\u001b[0m\u001b[0;34m.\u001b[0m\u001b[0mchunks\u001b[0m \u001b[0;32mis\u001b[0m \u001b[0;32mnot\u001b[0m \u001b[0;32mNone\u001b[0m \u001b[0;32mand\u001b[0m \u001b[0mlen\u001b[0m\u001b[0;34m(\u001b[0m\u001b[0mda\u001b[0m\u001b[0;34m.\u001b[0m\u001b[0mchunks\u001b[0m\u001b[0;34m[\u001b[0m\u001b[0mda\u001b[0m\u001b[0;34m.\u001b[0m\u001b[0mget_axis_num\u001b[0m\u001b[0;34m(\u001b[0m\u001b[0mmain_dim\u001b[0m\u001b[0;34m)\u001b[0m\u001b[0;34m]\u001b[0m\u001b[0;34m)\u001b[0m \u001b[0;34m>\u001b[0m \u001b[0;36m1\u001b[0m\u001b[0;34m:\u001b[0m\u001b[0;34m\u001b[0m\u001b[0;34m\u001b[0m\u001b[0m\n\u001b[1;32m     39\u001b[0m         raise ValueError(\n\u001b[0;32m---> 40\u001b[0;31m             \u001b[0;34mf\"Multiple chunks along the main adjustment dimension {main_dim} is not supported.\"\u001b[0m\u001b[0;34m\u001b[0m\u001b[0;34m\u001b[0m\u001b[0m\n\u001b[0m\u001b[1;32m     41\u001b[0m         )\n\u001b[1;32m     42\u001b[0m \u001b[0;34m\u001b[0m\u001b[0m\n",
      "\u001b[0;31mValueError\u001b[0m: Multiple chunks along the main adjustment dimension time is not supported."
     ]
    }
   ],
   "source": [
    "scen = dqm.adjust(ts[var])\n",
    "# ts['tas'].values = scen.values\n",
    "# ts.to_netcdf(path.join(path_adjust,var , \"/{}.nc\".format(key)), unlimited_dims='time')\n",
    "# ts.close()"
   ]
  },
  {
   "cell_type": "code",
   "execution_count": 93,
   "metadata": {},
   "outputs": [
    {
     "data": {
      "text/plain": [
       "['/home/nils/ramboll/paris/data/tas/tas_day_CNRM-ESM2-1_historical_r4i1p1f2_gr_18500101-20141231_sub.nc',\n",
       " '/home/nils/ramboll/paris/data/tas/tas_day_CNRM-ESM2-1_ssp245_r4i1p1f2_gr_20150101-21001231_sub.nc']"
      ]
     },
     "execution_count": 93,
     "metadata": {},
     "output_type": "execute_result"
    }
   ],
   "source": [
    "ds[key]"
   ]
  },
  {
   "cell_type": "code",
   "execution_count": 63,
   "metadata": {},
   "outputs": [],
   "source": [
    "files = []\n",
    "for f in enumerate(ds['tas_day_CNRM-CM6-1_ssp370_r5i1p1f2_gr']):\n",
    "    files.append(xr.open_dataset(f))\n",
    "\n",
    "ts = xr.concat(files, 'time')    "
   ]
  },
  {
   "cell_type": "code",
   "execution_count": 80,
   "metadata": {},
   "outputs": [
    {
     "data": {
      "text/plain": [
       "['/home/nils/ramboll/paris/data/tas/tas_day_CNRM-CM6-1_historical_r5i1p1f2_gr_18500101-20141231_sub.nc',\n",
       " '/home/nils/ramboll/paris/data/tas/tas_day_CNRM-CM6-1_ssp370_r5i1p1f2_gr_20150101-21001231_sub.nc']"
      ]
     },
     "execution_count": 80,
     "metadata": {},
     "output_type": "execute_result"
    }
   ],
   "source": [
    "ds['tas_day_CNRM-CM6-1_ssp370_r5i1p1f2_gr']"
   ]
  },
  {
   "cell_type": "code",
   "execution_count": 83,
   "metadata": {},
   "outputs": [
    {
     "data": {
      "text/plain": [
       "[<matplotlib.lines.Line2D at 0x7f39de15f590>]"
      ]
     },
     "execution_count": 83,
     "metadata": {},
     "output_type": "execute_result"
    },
    {
     "data": {
      "image/png": "[encoded data removed]",
      "text/plain": [
       "<Figure size 432x288 with 1 Axes>"
      ]
     },
     "metadata": {
      "needs_background": "light"
     },
     "output_type": "display_data"
    }
   ],
   "source": [
    "ts['tas'].plot()"
   ]
  },
  {
   "cell_type": "code",
   "execution_count": 32,
   "metadata": {},
   "outputs": [],
   "source": [
    "# file_hist = '/home/nils/ramboll/paris/data/pr/pr_day_CNRM-CM6-1_historical_r10i1p1f2_gr_19500101-20141231_sub.nc'\n",
    "\n",
    "\n",
    "hist = xr.open_dataset(file_hist)\n",
    "ref = xr.open_dataset(file_obs)\n",
    "\n",
    "ref = xr.DataArray(val_obs, dims=('time',), coords={'time': ts_obs}, attrs={'units': 'K'})\n",
    "hist = xr.DataArray(val_hist, dims=('time',), coords={'time': ts_hist}, attrs={'units': 'K'})"
   ]
  },
  {
   "cell_type": "code",
   "execution_count": 44,
   "metadata": {},
   "outputs": [],
   "source": [
    "\n",
    "# dqm.train(obs['tas'].sel(time=slice(\"1999-01-01\", \"2000-12-31\")), hist['tas'].sel(time=slice(\"1971-01-01\", \"2000-12-31\")))"
   ]
  },
  {
   "cell_type": "code",
   "execution_count": 45,
   "metadata": {},
   "outputs": [],
   "source": [
    "\n"
   ]
  },
  {
   "cell_type": "code",
   "execution_count": 75,
   "metadata": {},
   "outputs": [
    {
     "data": {
      "text/plain": [
       "array([[[283.11070111]],\n",
       "\n",
       "       [[285.09585079]],\n",
       "\n",
       "       [[282.85011458]],\n",
       "\n",
       "       ...,\n",
       "\n",
       "       [[282.16726647]],\n",
       "\n",
       "       [[279.29240315]],\n",
       "\n",
       "       [[279.72952784]]])"
      ]
     },
     "execution_count": 75,
     "metadata": {},
     "output_type": "execute_result"
    }
   ],
   "source": [
    "scen.values"
   ]
  },
  {
   "cell_type": "code",
   "execution_count": 76,
   "metadata": {},
   "outputs": [],
   "source": []
  },
  {
   "cell_type": "code",
   "execution_count": 79,
   "metadata": {},
   "outputs": [
    {
     "name": "stderr",
     "output_type": "stream",
     "text": [
      "/home/nils/anaconda3/envs/flyingpigeon/lib/python3.7/site-packages/xarray/conventions.py:427: UserWarning: Variable 'time' has datetime type and a bounds variable but time.encoding does not have units specified. The units encodings for 'time' and 'time_bounds' will be determined independently and may not be equal, counter to CF-conventions. If this is a concern, specify a units encoding for 'time' before writing to a file.\n",
      "  UserWarning,\n"
     ]
    }
   ],
   "source": []
  },
  {
   "cell_type": "code",
   "execution_count": 78,
   "metadata": {},
   "outputs": [
    {
     "data": {
      "text/html": [
       "<div><svg style=\"position: absolute; width: 0; height: 0; overflow: hidden\">\n",
       "<defs>\n",
       "<symbol id=\"icon-database\" viewBox=\"0 0 32 32\">\n",
       "<path d=\"M16 0c-8.837 0-16 2.239-16 5v4c0 2.761 7.163 5 16 5s16-2.239 16-5v-4c0-2.761-7.163-5-16-5z\"></path>\n",
       "<path d=\"M16 17c-8.837 0-16-2.239-16-5v6c0 2.761 7.163 5 16 5s16-2.239 16-5v-6c0 2.761-7.163 5-16 5z\"></path>\n",
       "<path d=\"M16 26c-8.837 0-16-2.239-16-5v6c0 2.761 7.163 5 16 5s16-2.239 16-5v-6c0 2.761-7.163 5-16 5z\"></path>\n",
       "</symbol>\n",
       "<symbol id=\"icon-file-text2\" viewBox=\"0 0 32 32\">\n",
       "<path d=\"M28.681 7.159c-0.694-0.947-1.662-2.053-2.724-3.116s-2.169-2.030-3.116-2.724c-1.612-1.182-2.393-1.319-2.841-1.319h-15.5c-1.378 0-2.5 1.121-2.5 2.5v27c0 1.378 1.122 2.5 2.5 2.5h23c1.378 0 2.5-1.122 2.5-2.5v-19.5c0-0.448-0.137-1.23-1.319-2.841zM24.543 5.457c0.959 0.959 1.712 1.825 2.268 2.543h-4.811v-4.811c0.718 0.556 1.584 1.309 2.543 2.268zM28 29.5c0 0.271-0.229 0.5-0.5 0.5h-23c-0.271 0-0.5-0.229-0.5-0.5v-27c0-0.271 0.229-0.5 0.5-0.5 0 0 15.499-0 15.5 0v7c0 0.552 0.448 1 1 1h7v19.5z\"></path>\n",
       "<path d=\"M23 26h-14c-0.552 0-1-0.448-1-1s0.448-1 1-1h14c0.552 0 1 0.448 1 1s-0.448 1-1 1z\"></path>\n",
       "<path d=\"M23 22h-14c-0.552 0-1-0.448-1-1s0.448-1 1-1h14c0.552 0 1 0.448 1 1s-0.448 1-1 1z\"></path>\n",
       "<path d=\"M23 18h-14c-0.552 0-1-0.448-1-1s0.448-1 1-1h14c0.552 0 1 0.448 1 1s-0.448 1-1 1z\"></path>\n",
       "</symbol>\n",
       "</defs>\n",
       "</svg>\n",
       "<style>/* CSS stylesheet for displaying xarray objects in jupyterlab.\n",
       " *\n",
       " */\n",
       "\n",
       ":root {\n",
       "  --xr-font-color0: var(--jp-content-font-color0, rgba(0, 0, 0, 1));\n",
       "  --xr-font-color2: var(--jp-content-font-color2, rgba(0, 0, 0, 0.54));\n",
       "  --xr-font-color3: var(--jp-content-font-color3, rgba(0, 0, 0, 0.38));\n",
       "  --xr-border-color: var(--jp-border-color2, #e0e0e0);\n",
       "  --xr-disabled-color: var(--jp-layout-color3, #bdbdbd);\n",
       "  --xr-background-color: var(--jp-layout-color0, white);\n",
       "  --xr-background-color-row-even: var(--jp-layout-color1, white);\n",
       "  --xr-background-color-row-odd: var(--jp-layout-color2, #eeeeee);\n",
       "}\n",
       "\n",
       "html[theme=dark],\n",
       "body.vscode-dark {\n",
       "  --xr-font-color0: rgba(255, 255, 255, 1);\n",
       "  --xr-font-color2: rgba(255, 255, 255, 0.54);\n",
       "  --xr-font-color3: rgba(255, 255, 255, 0.38);\n",
       "  --xr-border-color: #1F1F1F;\n",
       "  --xr-disabled-color: #515151;\n",
       "  --xr-background-color: #111111;\n",
       "  --xr-background-color-row-even: #111111;\n",
       "  --xr-background-color-row-odd: #313131;\n",
       "}\n",
       "\n",
       ".xr-wrap {\n",
       "  display: block;\n",
       "  min-width: 300px;\n",
       "  max-width: 700px;\n",
       "}\n",
       "\n",
       ".xr-text-repr-fallback {\n",
       "  /* fallback to plain text repr when CSS is not injected (untrusted notebook) */\n",
       "  display: none;\n",
       "}\n",
       "\n",
       ".xr-header {\n",
       "  padding-top: 6px;\n",
       "  padding-bottom: 6px;\n",
       "  margin-bottom: 4px;\n",
       "  border-bottom: solid 1px var(--xr-border-color);\n",
       "}\n",
       "\n",
       ".xr-header > div,\n",
       ".xr-header > ul {\n",
       "  display: inline;\n",
       "  margin-top: 0;\n",
       "  margin-bottom: 0;\n",
       "}\n",
       "\n",
       ".xr-obj-type,\n",
       ".xr-array-name {\n",
       "  margin-left: 2px;\n",
       "  margin-right: 10px;\n",
       "}\n",
       "\n",
       ".xr-obj-type {\n",
       "  color: var(--xr-font-color2);\n",
       "}\n",
       "\n",
       ".xr-sections {\n",
       "  padding-left: 0 !important;\n",
       "  display: grid;\n",
       "  grid-template-columns: 150px auto auto 1fr 20px 20px;\n",
       "}\n",
       "\n",
       ".xr-section-item {\n",
       "  display: contents;\n",
       "}\n",
       "\n",
       ".xr-section-item input {\n",
       "  display: none;\n",
       "}\n",
       "\n",
       ".xr-section-item input + label {\n",
       "  color: var(--xr-disabled-color);\n",
       "}\n",
       "\n",
       ".xr-section-item input:enabled + label {\n",
       "  cursor: pointer;\n",
       "  color: var(--xr-font-color2);\n",
       "}\n",
       "\n",
       ".xr-section-item input:enabled + label:hover {\n",
       "  color: var(--xr-font-color0);\n",
       "}\n",
       "\n",
       ".xr-section-summary {\n",
       "  grid-column: 1;\n",
       "  color: var(--xr-font-color2);\n",
       "  font-weight: 500;\n",
       "}\n",
       "\n",
       ".xr-section-summary > span {\n",
       "  display: inline-block;\n",
       "  padding-left: 0.5em;\n",
       "}\n",
       "\n",
       ".xr-section-summary-in:disabled + label {\n",
       "  color: var(--xr-font-color2);\n",
       "}\n",
       "\n",
       ".xr-section-summary-in + label:before {\n",
       "  display: inline-block;\n",
       "  content: '►';\n",
       "  font-size: 11px;\n",
       "  width: 15px;\n",
       "  text-align: center;\n",
       "}\n",
       "\n",
       ".xr-section-summary-in:disabled + label:before {\n",
       "  color: var(--xr-disabled-color);\n",
       "}\n",
       "\n",
       ".xr-section-summary-in:checked + label:before {\n",
       "  content: '▼';\n",
       "}\n",
       "\n",
       ".xr-section-summary-in:checked + label > span {\n",
       "  display: none;\n",
       "}\n",
       "\n",
       ".xr-section-summary,\n",
       ".xr-section-inline-details {\n",
       "  padding-top: 4px;\n",
       "  padding-bottom: 4px;\n",
       "}\n",
       "\n",
       ".xr-section-inline-details {\n",
       "  grid-column: 2 / -1;\n",
       "}\n",
       "\n",
       ".xr-section-details {\n",
       "  display: none;\n",
       "  grid-column: 1 / -1;\n",
       "  margin-bottom: 5px;\n",
       "}\n",
       "\n",
       ".xr-section-summary-in:checked ~ .xr-section-details {\n",
       "  display: contents;\n",
       "}\n",
       "\n",
       ".xr-array-wrap {\n",
       "  grid-column: 1 / -1;\n",
       "  display: grid;\n",
       "  grid-template-columns: 20px auto;\n",
       "}\n",
       "\n",
       ".xr-array-wrap > label {\n",
       "  grid-column: 1;\n",
       "  vertical-align: top;\n",
       "}\n",
       "\n",
       ".xr-preview {\n",
       "  color: var(--xr-font-color3);\n",
       "}\n",
       "\n",
       ".xr-array-preview,\n",
       ".xr-array-data {\n",
       "  padding: 0 5px !important;\n",
       "  grid-column: 2;\n",
       "}\n",
       "\n",
       ".xr-array-data,\n",
       ".xr-array-in:checked ~ .xr-array-preview {\n",
       "  display: none;\n",
       "}\n",
       "\n",
       ".xr-array-in:checked ~ .xr-array-data,\n",
       ".xr-array-preview {\n",
       "  display: inline-block;\n",
       "}\n",
       "\n",
       ".xr-dim-list {\n",
       "  display: inline-block !important;\n",
       "  list-style: none;\n",
       "  padding: 0 !important;\n",
       "  margin: 0;\n",
       "}\n",
       "\n",
       ".xr-dim-list li {\n",
       "  display: inline-block;\n",
       "  padding: 0;\n",
       "  margin: 0;\n",
       "}\n",
       "\n",
       ".xr-dim-list:before {\n",
       "  content: '(';\n",
       "}\n",
       "\n",
       ".xr-dim-list:after {\n",
       "  content: ')';\n",
       "}\n",
       "\n",
       ".xr-dim-list li:not(:last-child):after {\n",
       "  content: ',';\n",
       "  padding-right: 5px;\n",
       "}\n",
       "\n",
       ".xr-has-index {\n",
       "  font-weight: bold;\n",
       "}\n",
       "\n",
       ".xr-var-list,\n",
       ".xr-var-item {\n",
       "  display: contents;\n",
       "}\n",
       "\n",
       ".xr-var-item > div,\n",
       ".xr-var-item label,\n",
       ".xr-var-item > .xr-var-name span {\n",
       "  background-color: var(--xr-background-color-row-even);\n",
       "  margin-bottom: 0;\n",
       "}\n",
       "\n",
       ".xr-var-item > .xr-var-name:hover span {\n",
       "  padding-right: 5px;\n",
       "}\n",
       "\n",
       ".xr-var-list > li:nth-child(odd) > div,\n",
       ".xr-var-list > li:nth-child(odd) > label,\n",
       ".xr-var-list > li:nth-child(odd) > .xr-var-name span {\n",
       "  background-color: var(--xr-background-color-row-odd);\n",
       "}\n",
       "\n",
       ".xr-var-name {\n",
       "  grid-column: 1;\n",
       "}\n",
       "\n",
       ".xr-var-dims {\n",
       "  grid-column: 2;\n",
       "}\n",
       "\n",
       ".xr-var-dtype {\n",
       "  grid-column: 3;\n",
       "  text-align: right;\n",
       "  color: var(--xr-font-color2);\n",
       "}\n",
       "\n",
       ".xr-var-preview {\n",
       "  grid-column: 4;\n",
       "}\n",
       "\n",
       ".xr-var-name,\n",
       ".xr-var-dims,\n",
       ".xr-var-dtype,\n",
       ".xr-preview,\n",
       ".xr-attrs dt {\n",
       "  white-space: nowrap;\n",
       "  overflow: hidden;\n",
       "  text-overflow: ellipsis;\n",
       "  padding-right: 10px;\n",
       "}\n",
       "\n",
       ".xr-var-name:hover,\n",
       ".xr-var-dims:hover,\n",
       ".xr-var-dtype:hover,\n",
       ".xr-attrs dt:hover {\n",
       "  overflow: visible;\n",
       "  width: auto;\n",
       "  z-index: 1;\n",
       "}\n",
       "\n",
       ".xr-var-attrs,\n",
       ".xr-var-data {\n",
       "  display: none;\n",
       "  background-color: var(--xr-background-color) !important;\n",
       "  padding-bottom: 5px !important;\n",
       "}\n",
       "\n",
       ".xr-var-attrs-in:checked ~ .xr-var-attrs,\n",
       ".xr-var-data-in:checked ~ .xr-var-data {\n",
       "  display: block;\n",
       "}\n",
       "\n",
       ".xr-var-data > table {\n",
       "  float: right;\n",
       "}\n",
       "\n",
       ".xr-var-name span,\n",
       ".xr-var-data,\n",
       ".xr-attrs {\n",
       "  padding-left: 25px !important;\n",
       "}\n",
       "\n",
       ".xr-attrs,\n",
       ".xr-var-attrs,\n",
       ".xr-var-data {\n",
       "  grid-column: 1 / -1;\n",
       "}\n",
       "\n",
       "dl.xr-attrs {\n",
       "  padding: 0;\n",
       "  margin: 0;\n",
       "  display: grid;\n",
       "  grid-template-columns: 125px auto;\n",
       "}\n",
       "\n",
       ".xr-attrs dt, dd {\n",
       "  padding: 0;\n",
       "  margin: 0;\n",
       "  float: left;\n",
       "  padding-right: 10px;\n",
       "  width: auto;\n",
       "}\n",
       "\n",
       ".xr-attrs dt {\n",
       "  font-weight: normal;\n",
       "  grid-column: 1;\n",
       "}\n",
       "\n",
       ".xr-attrs dt:hover span {\n",
       "  display: inline-block;\n",
       "  background: var(--xr-background-color);\n",
       "  padding-right: 10px;\n",
       "}\n",
       "\n",
       ".xr-attrs dd {\n",
       "  grid-column: 2;\n",
       "  white-space: pre-wrap;\n",
       "  word-break: break-all;\n",
       "}\n",
       "\n",
       ".xr-icon-database,\n",
       ".xr-icon-file-text2 {\n",
       "  display: inline-block;\n",
       "  vertical-align: middle;\n",
       "  width: 1em;\n",
       "  height: 1.5em !important;\n",
       "  stroke-width: 0;\n",
       "  stroke: currentColor;\n",
       "  fill: currentColor;\n",
       "}\n",
       "</style><pre class='xr-text-repr-fallback'>&lt;xarray.DataArray ()&gt;\n",
       "array(285.75631892)\n",
       "Coordinates:\n",
       "    height   float64 2.0</pre><div class='xr-wrap' hidden><div class='xr-header'><div class='xr-obj-type'>xarray.DataArray</div><div class='xr-array-name'></div></div><ul class='xr-sections'><li class='xr-section-item'><div class='xr-array-wrap'><input id='section-6601dbca-8c21-45fc-91bb-228ed3a2c83a' class='xr-array-in' type='checkbox' checked><label for='section-6601dbca-8c21-45fc-91bb-228ed3a2c83a' title='Show/hide data repr'><svg class='icon xr-icon-database'><use xlink:href='#icon-database'></use></svg></label><div class='xr-array-preview xr-preview'><span>285.8</span></div><div class='xr-array-data'><pre>array(285.75631892)</pre></div></div></li><li class='xr-section-item'><input id='section-3a202256-4fe9-4d25-9eed-4402d1aeaf73' class='xr-section-summary-in' type='checkbox'  checked><label for='section-3a202256-4fe9-4d25-9eed-4402d1aeaf73' class='xr-section-summary' >Coordinates: <span>(1)</span></label><div class='xr-section-inline-details'></div><div class='xr-section-details'><ul class='xr-var-list'><li class='xr-var-item'><div class='xr-var-name'><span>height</span></div><div class='xr-var-dims'>()</div><div class='xr-var-dtype'>float64</div><div class='xr-var-preview xr-preview'>2.0</div><input id='attrs-1edcd1c3-2fe6-4cd6-9e68-91ac650ecd8b' class='xr-var-attrs-in' type='checkbox' ><label for='attrs-1edcd1c3-2fe6-4cd6-9e68-91ac650ecd8b' title='Show/Hide attributes'><svg class='icon xr-icon-file-text2'><use xlink:href='#icon-file-text2'></use></svg></label><input id='data-0bdd7b85-9fb9-40a6-b021-d2052249f2a6' class='xr-var-data-in' type='checkbox'><label for='data-0bdd7b85-9fb9-40a6-b021-d2052249f2a6' title='Show/Hide data repr'><svg class='icon xr-icon-database'><use xlink:href='#icon-database'></use></svg></label><div class='xr-var-attrs'><dl class='xr-attrs'><dt><span>name :</span></dt><dd>height</dd><dt><span>standard_name :</span></dt><dd>height</dd><dt><span>long_name :</span></dt><dd>height</dd><dt><span>units :</span></dt><dd>m</dd><dt><span>axis :</span></dt><dd>Z</dd><dt><span>positive :</span></dt><dd>up</dd></dl></div><div class='xr-var-data'><pre>array(2.)</pre></div></li></ul></div></li><li class='xr-section-item'><input id='section-6ebe4e61-c622-4982-874b-c5497965cf4b' class='xr-section-summary-in' type='checkbox' disabled ><label for='section-6ebe4e61-c622-4982-874b-c5497965cf4b' class='xr-section-summary'  title='Expand/collapse section'>Attributes: <span>(0)</span></label><div class='xr-section-inline-details'></div><div class='xr-section-details'><dl class='xr-attrs'></dl></div></li></ul></div></div>"
      ],
      "text/plain": [
       "<xarray.DataArray ()>\n",
       "array(285.75631892)\n",
       "Coordinates:\n",
       "    height   float64 2.0"
      ]
     },
     "execution_count": 78,
     "metadata": {},
     "output_type": "execute_result"
    }
   ],
   "source": [
    "scen.mean()"
   ]
  },
  {
   "cell_type": "code",
   "execution_count": 59,
   "metadata": {},
   "outputs": [],
   "source": [
    "# ts.close()\n",
    "# tas_obs.close()\n",
    "scen.var?\n",
    "# scen.to_netcdf(path.join(path_adjust, \"tas/test.nc\"), unlimited_dims='time')"
   ]
  },
  {
   "cell_type": "code",
   "execution_count": 69,
   "metadata": {},
   "outputs": [],
   "source": [
    "ds_ad = sdba.processing.adapt_freq(sim=hist['pr'], ref=ref['pr'], thresh=0.05)\n",
    "QM_ad = sdba.EmpiricalQuantileMapping(nquantiles=15, kind='*', group='time')\n",
    "QM_ad.train(ref['pr'], ds_ad.sim_ad)\n",
    "scen_ad = QM_ad.adjust(hist['pr'])"
   ]
  },
  {
   "cell_type": "code",
   "execution_count": 24,
   "metadata": {},
   "outputs": [],
   "source": [
    "import numpy as np\n",
    "tas = np.squeeze(obs['tas'])\n"
   ]
  },
  {
   "cell_type": "code",
   "execution_count": 45,
   "metadata": {},
   "outputs": [],
   "source": [
    "sl = obs['tas'].sel(time=slice(\"2000-06-01\", \"2000-06-10\"))"
   ]
  },
  {
   "cell_type": "code",
   "execution_count": 65,
   "metadata": {},
   "outputs": [
    {
     "data": {
      "text/plain": [
       "[<matplotlib.lines.Line2D at 0x7f08aa698450>]"
      ]
     },
     "execution_count": 65,
     "metadata": {},
     "output_type": "execute_result"
    },
    {
     "data": {
      "image/png": "[encoded data removed]",
      "text/plain": [
       "<Figure size 432x288 with 1 Axes>"
      ]
     },
     "metadata": {
      "needs_background": "light"
     },
     "output_type": "display_data"
    }
   ],
   "source": [
    "# dif = hist - scen \n",
    "scen.plot()"
   ]
  },
  {
   "cell_type": "code",
   "execution_count": 59,
   "metadata": {},
   "outputs": [
    {
     "data": {
      "text/plain": [
       "[<matplotlib.lines.Line2D at 0x7f08aa6b25d0>]"
      ]
     },
     "execution_count": 59,
     "metadata": {},
     "output_type": "execute_result"
    },
    {
     "data": {
      "image/png": "[encoded data removed]",
      "text/plain": [
       "<Figure size 432x288 with 1 Axes>"
      ]
     },
     "metadata": {
      "needs_background": "light"
     },
     "output_type": "display_data"
    }
   ],
   "source": [
    "hist['pr'].plot()"
   ]
  },
  {
   "cell_type": "code",
   "execution_count": 63,
   "metadata": {},
   "outputs": [
    {
     "data": {
      "text/plain": [
       "[<matplotlib.lines.Line2D at 0x7f08aa7e1310>]"
      ]
     },
     "execution_count": 63,
     "metadata": {},
     "output_type": "execute_result"
    },
    {
     "data": {
      "image/png": "[encoded data removed]",
      "text/plain": [
       "<Figure size 432x288 with 1 Axes>"
      ]
     },
     "metadata": {
      "needs_background": "light"
     },
     "output_type": "display_data"
    }
   ],
   "source": [
    "obs['pr'].plot()"
   ]
  },
  {
   "cell_type": "code",
   "execution_count": 71,
   "metadata": {},
   "outputs": [
    {
     "data": {
      "text/plain": [
       "[<matplotlib.lines.Line2D at 0x7f08aa407e50>]"
      ]
     },
     "execution_count": 71,
     "metadata": {},
     "output_type": "execute_result"
    },
    {
     "data": {
      "image/png": "[encoded data removed]",
      "text/plain": [
       "<Figure size 432x288 with 1 Axes>"
      ]
     },
     "metadata": {
      "needs_background": "light"
     },
     "output_type": "display_data"
    }
   ],
   "source": [
    "scen_ad.plot()"
   ]
  },
  {
   "cell_type": "code",
   "execution_count": null,
   "metadata": {},
   "outputs": [],
   "source": []
  }
 ],
 "metadata": {
  "kernelspec": {
   "display_name": "Python 3",
   "language": "python",
   "name": "python3"
  },
  "language_info": {
   "codemirror_mode": {
    "name": "ipython",
    "version": 3
   },
   "file_extension": ".py",
   "mimetype": "text/x-python",
   "name": "python",
   "nbconvert_exporter": "python",
   "pygments_lexer": "ipython3",
   "version": "3.7.6"
  }
 },
 "nbformat": 4,
 "nbformat_minor": 4
}
